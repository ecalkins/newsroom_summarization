{
 "cells": [
  {
   "cell_type": "code",
   "execution_count": 1,
   "metadata": {
    "ExecuteTime": {
     "end_time": "2019-06-25T20:44:17.973345Z",
     "start_time": "2019-06-25T20:44:16.256323Z"
    }
   },
   "outputs": [
    {
     "name": "stdout",
     "output_type": "stream",
     "text": [
      "[nltk_data] Downloading package stopwords to /Users/evan/nltk_data...\n",
      "[nltk_data]   Package stopwords is already up-to-date!\n"
     ]
    },
    {
     "name": "stderr",
     "output_type": "stream",
     "text": [
      "paramiko missing, opening SSH/SCP/SFTP paths will be disabled.  `pip install paramiko` to suppress\n"
     ]
    }
   ],
   "source": [
    "import json, gzip\n",
    "import pandas as pd\n",
    "import numpy as np\n",
    "import re\n",
    "import nltk\n",
    "nltk.download('stopwords')\n",
    "import itertools\n",
    "import pickle\n",
    "\n",
    "import torch\n",
    "import torch.nn as nn\n",
    "import torch.nn.functional as F\n",
    "from torch.utils.data import Dataset, DataLoader\n",
    "from gensim.models import KeyedVectors\n",
    "from nltk.corpus import stopwords\n",
    "from sklearn.model_selection import train_test_split"
   ]
  },
  {
   "cell_type": "code",
   "execution_count": 2,
   "metadata": {
    "ExecuteTime": {
     "end_time": "2019-06-25T20:44:18.579338Z",
     "start_time": "2019-06-25T20:44:18.571726Z"
    }
   },
   "outputs": [],
   "source": [
    "def read_json1(path):\n",
    "    data = []\n",
    "    \n",
    "    with gzip.open(path) as f:\n",
    "        for ln in f:\n",
    "            obj = json.loads(ln)\n",
    "            data.append(obj)\n",
    "            \n",
    "    return data"
   ]
  },
  {
   "cell_type": "code",
   "execution_count": 3,
   "metadata": {
    "ExecuteTime": {
     "end_time": "2019-06-25T20:44:19.270488Z",
     "start_time": "2019-06-25T20:44:19.261150Z"
    }
   },
   "outputs": [],
   "source": [
    "def text_to_word_list(text):\n",
    "    ''' Pre process and convert texts to a list of words '''\n",
    "    text = str(text)\n",
    "    text = text.lower()\n",
    "\n",
    "    # Clean the text\n",
    "    text = re.sub(r\"[^A-Za-z0-9^,!.\\/'+-=]\", \" \", text)\n",
    "    text = re.sub(r\"what's\", \"what is \", text)\n",
    "    text = re.sub(r\"\\'s\", \" \", text)\n",
    "    text = re.sub(r\"\\'ve\", \" have \", text)\n",
    "    text = re.sub(r\"can't\", \"cannot \", text)\n",
    "    text = re.sub(r\"n't\", \" not \", text)\n",
    "    text = re.sub(r\"i'm\", \"i am \", text)\n",
    "    text = re.sub(r\"\\'re\", \" are \", text)\n",
    "    text = re.sub(r\"\\'d\", \" would \", text)\n",
    "    text = re.sub(r\"\\'ll\", \" will \", text)\n",
    "    text = re.sub(r\",\", \" \", text)\n",
    "    text = re.sub(r\"\\.\", \" \", text)\n",
    "    text = re.sub(r\"!\", \" ! \", text)\n",
    "    text = re.sub(r\"\\/\", \" \", text)\n",
    "    text = re.sub(r\"\\^\", \" ^ \", text)\n",
    "    text = re.sub(r\"\\+\", \" + \", text)\n",
    "    text = re.sub(r\"\\-\", \" - \", text)\n",
    "    text = re.sub(r\"\\=\", \" = \", text)\n",
    "    text = re.sub(r\"'\", \" \", text)\n",
    "    text = re.sub(r\"(\\d+)(k)\", r\"\\g<1>000\", text)\n",
    "    text = re.sub(r\":\", \" : \", text)\n",
    "    text = re.sub(r\" e g \", \" eg \", text)\n",
    "    text = re.sub(r\" b g \", \" bg \", text)\n",
    "    text = re.sub(r\" u s \", \" american \", text)\n",
    "    text = re.sub(r\"\\0s\", \"0\", text)\n",
    "    text = re.sub(r\" 9 11 \", \"911\", text)\n",
    "    text = re.sub(r\"e - mail\", \"email\", text)\n",
    "    text = re.sub(r\"j k\", \"jk\", text)\n",
    "    text = re.sub(r\"\\s{2,}\", \" \", text)\n",
    "\n",
    "    text = text.split()\n",
    "\n",
    "    return text"
   ]
  },
  {
   "cell_type": "code",
   "execution_count": 4,
   "metadata": {
    "ExecuteTime": {
     "end_time": "2019-06-25T20:44:20.299695Z",
     "start_time": "2019-06-25T20:44:20.293738Z"
    }
   },
   "outputs": [],
   "source": [
    "def encode_dataset(dataset, vocab, inv_vocab, build_vocab=False, emb=None):\n",
    "    cols = ['text', 'summary']\n",
    "    for index, row in dataset.iterrows():\n",
    "        # Iterate through the text of both questions of the row\n",
    "        for col in cols:\n",
    "            # text to number representation\n",
    "            t2n = [1]  \n",
    "            for word in text_to_word_list(row[col]):\n",
    "                if build_vocab:\n",
    "                    # Leave out words without embeddings\n",
    "                    if word not in emb.vocab:\n",
    "                        continue\n",
    "                    elif word not in vocab:\n",
    "                        vocab[word] = len(vocab)\n",
    "                        t2n.append(len(inv_vocab))\n",
    "                        inv_vocab[len(inv_vocab)] = word\n",
    "                    else:\n",
    "                        t2n.append(vocab[word])\n",
    "                else:\n",
    "                    if word not in vocab:\n",
    "                        continue\n",
    "                    else:\n",
    "                        t2n.append(vocab[word])\n",
    "            t2n.append(2)\n",
    "            # Replace article or summary text with number representation\n",
    "            dataset.at[index, col] = t2n"
   ]
  },
  {
   "cell_type": "code",
   "execution_count": 5,
   "metadata": {
    "ExecuteTime": {
     "end_time": "2019-06-25T20:44:20.751883Z",
     "start_time": "2019-06-25T20:44:20.748934Z"
    }
   },
   "outputs": [],
   "source": [
    "def save_vocabs(vocab, inv_vocab):\n",
    "    with open(\"vocab.pkl\",\"wb\") as f:\n",
    "        pickle.dump(vocab, f)\n",
    "\n",
    "    with open(\"inv_vocab.pkl\", \"wb\") as f:\n",
    "        pickle.dump(inv_vocab, f)"
   ]
  },
  {
   "cell_type": "markdown",
   "metadata": {},
   "source": [
    "### Initialize vocabs and word embeddings"
   ]
  },
  {
   "cell_type": "code",
   "execution_count": 8,
   "metadata": {
    "ExecuteTime": {
     "end_time": "2019-06-24T23:07:13.204453Z",
     "start_time": "2019-06-24T23:06:35.004016Z"
    }
   },
   "outputs": [],
   "source": [
    "word2vec_path = '/Users/evan/data/deep_learning/GoogleNews-vectors-negative300.bin'\n",
    "\n",
    "# used to encode words\n",
    "vocab = {\"PAD\": 0, \"SOS\": 1, \"EOS\": 2, \"UNK\": 3} \n",
    "\n",
    "# used to decode (encoded) words\n",
    "inv_vocab = {0: \"PAD\", 1: \"SOS\", 2: \"EOS\", 3: \"UNK\"} \n",
    "\n",
    "# load pre-trained word embeddings\n",
    "word2vec = KeyedVectors.load_word2vec_format(word2vec_path, binary=True)"
   ]
  },
  {
   "cell_type": "markdown",
   "metadata": {},
   "source": [
    "### Read and encode train data. Generate vocab"
   ]
  },
  {
   "cell_type": "code",
   "execution_count": 10,
   "metadata": {
    "ExecuteTime": {
     "end_time": "2019-06-24T23:12:41.465799Z",
     "start_time": "2019-06-24T23:10:19.512667Z"
    }
   },
   "outputs": [],
   "source": [
    "cols = ['text', 'summary']\n",
    "path_train = \"/Users/evan/data/deep_learning/release/train.jsonl.gz\"\n",
    "path_val = \"/Users/evan/data/deep_learning/release/dev.jsonl.gz\"\n",
    "\n",
    "train_data = read_json1(path_train)\n",
    "val_data = read_json1(path_val)\n",
    "\n",
    "df = pd.DataFrame(train_data)\n",
    "val = pd.DataFrame(val_data)"
   ]
  },
  {
   "cell_type": "code",
   "execution_count": 17,
   "metadata": {
    "ExecuteTime": {
     "end_time": "2019-06-24T23:15:16.911094Z",
     "start_time": "2019-06-24T23:15:16.862469Z"
    }
   },
   "outputs": [
    {
     "data": {
      "text/plain": [
       "count    995041.000000\n",
       "mean          0.825464\n",
       "std           0.179454\n",
       "min           0.000000\n",
       "25%           0.733333\n",
       "50%           0.877551\n",
       "75%           0.967742\n",
       "max           1.000000\n",
       "Name: coverage, dtype: float64"
      ]
     },
     "execution_count": 17,
     "metadata": {},
     "output_type": "execute_result"
    }
   ],
   "source": [
    "df.coverage.describe()"
   ]
  },
  {
   "cell_type": "code",
   "execution_count": 25,
   "metadata": {
    "ExecuteTime": {
     "end_time": "2019-06-24T23:27:13.600066Z",
     "start_time": "2019-06-24T23:27:13.164262Z"
    }
   },
   "outputs": [
    {
     "data": {
      "text/plain": [
       "(423008, 12)"
      ]
     },
     "execution_count": 25,
     "metadata": {},
     "output_type": "execute_result"
    }
   ],
   "source": [
    "df = df[df.coverage > 0.73]\n",
    "val = val[val.coverage > 0.73]\n",
    "df.shape"
   ]
  },
  {
   "cell_type": "code",
   "execution_count": 26,
   "metadata": {
    "ExecuteTime": {
     "end_time": "2019-06-24T23:27:43.067265Z",
     "start_time": "2019-06-24T23:27:42.786233Z"
    }
   },
   "outputs": [
    {
     "data": {
      "text/html": [
       "<div>\n",
       "<style scoped>\n",
       "    .dataframe tbody tr th:only-of-type {\n",
       "        vertical-align: middle;\n",
       "    }\n",
       "\n",
       "    .dataframe tbody tr th {\n",
       "        vertical-align: top;\n",
       "    }\n",
       "\n",
       "    .dataframe thead th {\n",
       "        text-align: right;\n",
       "    }\n",
       "</style>\n",
       "<table border=\"1\" class=\"dataframe\">\n",
       "  <thead>\n",
       "    <tr style=\"text-align: right;\">\n",
       "      <th></th>\n",
       "      <th>text</th>\n",
       "      <th>summary</th>\n",
       "    </tr>\n",
       "  </thead>\n",
       "  <tbody>\n",
       "    <tr>\n",
       "      <th>1</th>\n",
       "      <td>WASHINGTON, Dec. 23 - The National Security Ag...</td>\n",
       "      <td>The volume of information harvested, without \\...</td>\n",
       "    </tr>\n",
       "    <tr>\n",
       "      <th>2</th>\n",
       "      <td>IF outsized executive pay has indeed become a ...</td>\n",
       "      <td>The battle between Pfizer Inc.'s investors and...</td>\n",
       "    </tr>\n",
       "    <tr>\n",
       "      <th>3</th>\n",
       "      <td>BY A.J. BENZA &amp; MICHAEL LEWITTES\\n\\nIf Simon R...</td>\n",
       "      <td>If Simon Rex looks a little familiar, it may n...</td>\n",
       "    </tr>\n",
       "    <tr>\n",
       "      <th>6</th>\n",
       "      <td>With Police Commissioner Bernard Kerik crackin...</td>\n",
       "      <td>By JOHN MARZULLI DAILY NEWS POLICE BUREAU CHIE...</td>\n",
       "    </tr>\n",
       "    <tr>\n",
       "      <th>8</th>\n",
       "      <td>BY GEORGE RUSH AND JOANNA MOLLOY With Kasia An...</td>\n",
       "      <td>Did Tatum O'Neal's latest battle with ex-husba...</td>\n",
       "    </tr>\n",
       "  </tbody>\n",
       "</table>\n",
       "</div>"
      ],
      "text/plain": [
       "                                                text  \\\n",
       "1  WASHINGTON, Dec. 23 - The National Security Ag...   \n",
       "2  IF outsized executive pay has indeed become a ...   \n",
       "3  BY A.J. BENZA & MICHAEL LEWITTES\\n\\nIf Simon R...   \n",
       "6  With Police Commissioner Bernard Kerik crackin...   \n",
       "8  BY GEORGE RUSH AND JOANNA MOLLOY With Kasia An...   \n",
       "\n",
       "                                             summary  \n",
       "1  The volume of information harvested, without \\...  \n",
       "2  The battle between Pfizer Inc.'s investors and...  \n",
       "3  If Simon Rex looks a little familiar, it may n...  \n",
       "6  By JOHN MARZULLI DAILY NEWS POLICE BUREAU CHIE...  \n",
       "8  Did Tatum O'Neal's latest battle with ex-husba...  "
      ]
     },
     "execution_count": 26,
     "metadata": {},
     "output_type": "execute_result"
    }
   ],
   "source": [
    "df = df[(df.compression > 10) & (df.compression < 44)]\n",
    "val = val[(val.compression > 10) & (val.compression < 44)]\n",
    "train_df = df[cols]\n",
    "val_df = val[cols]\n",
    "train_df.head()"
   ]
  },
  {
   "cell_type": "code",
   "execution_count": 27,
   "metadata": {
    "ExecuteTime": {
     "end_time": "2019-06-24T23:27:48.886529Z",
     "start_time": "2019-06-24T23:27:48.882864Z"
    }
   },
   "outputs": [
    {
     "data": {
      "text/plain": [
       "(423008, 2)"
      ]
     },
     "execution_count": 27,
     "metadata": {},
     "output_type": "execute_result"
    }
   ],
   "source": [
    "train_df.shape"
   ]
  },
  {
   "cell_type": "code",
   "execution_count": 28,
   "metadata": {
    "ExecuteTime": {
     "end_time": "2019-06-24T23:27:53.400040Z",
     "start_time": "2019-06-24T23:27:53.396297Z"
    }
   },
   "outputs": [
    {
     "data": {
      "text/plain": [
       "(46289, 2)"
      ]
     },
     "execution_count": 28,
     "metadata": {},
     "output_type": "execute_result"
    }
   ],
   "source": [
    "val_df.shape"
   ]
  },
  {
   "cell_type": "code",
   "execution_count": 34,
   "metadata": {
    "ExecuteTime": {
     "end_time": "2019-06-24T23:35:48.931795Z",
     "start_time": "2019-06-24T23:35:11.514112Z"
    }
   },
   "outputs": [
    {
     "name": "stderr",
     "output_type": "stream",
     "text": [
      "/Users/evan/anaconda3/envs/ml/lib/python3.6/site-packages/ipykernel_launcher.py:1: SettingWithCopyWarning: \n",
      "A value is trying to be set on a copy of a slice from a DataFrame.\n",
      "Try using .loc[row_indexer,col_indexer] = value instead\n",
      "\n",
      "See the caveats in the documentation: http://pandas.pydata.org/pandas-docs/stable/indexing.html#indexing-view-versus-copy\n",
      "  \"\"\"Entry point for launching an IPython kernel.\n",
      "/Users/evan/anaconda3/envs/ml/lib/python3.6/site-packages/ipykernel_launcher.py:2: SettingWithCopyWarning: \n",
      "A value is trying to be set on a copy of a slice from a DataFrame.\n",
      "Try using .loc[row_indexer,col_indexer] = value instead\n",
      "\n",
      "See the caveats in the documentation: http://pandas.pydata.org/pandas-docs/stable/indexing.html#indexing-view-versus-copy\n",
      "  \n",
      "/Users/evan/anaconda3/envs/ml/lib/python3.6/site-packages/ipykernel_launcher.py:3: SettingWithCopyWarning: \n",
      "A value is trying to be set on a copy of a slice from a DataFrame.\n",
      "Try using .loc[row_indexer,col_indexer] = value instead\n",
      "\n",
      "See the caveats in the documentation: http://pandas.pydata.org/pandas-docs/stable/indexing.html#indexing-view-versus-copy\n",
      "  This is separate from the ipykernel package so we can avoid doing imports until\n",
      "/Users/evan/anaconda3/envs/ml/lib/python3.6/site-packages/ipykernel_launcher.py:4: SettingWithCopyWarning: \n",
      "A value is trying to be set on a copy of a slice from a DataFrame.\n",
      "Try using .loc[row_indexer,col_indexer] = value instead\n",
      "\n",
      "See the caveats in the documentation: http://pandas.pydata.org/pandas-docs/stable/indexing.html#indexing-view-versus-copy\n",
      "  after removing the cwd from sys.path.\n"
     ]
    },
    {
     "data": {
      "text/html": [
       "<div>\n",
       "<style scoped>\n",
       "    .dataframe tbody tr th:only-of-type {\n",
       "        vertical-align: middle;\n",
       "    }\n",
       "\n",
       "    .dataframe tbody tr th {\n",
       "        vertical-align: top;\n",
       "    }\n",
       "\n",
       "    .dataframe thead th {\n",
       "        text-align: right;\n",
       "    }\n",
       "</style>\n",
       "<table border=\"1\" class=\"dataframe\">\n",
       "  <thead>\n",
       "    <tr style=\"text-align: right;\">\n",
       "      <th></th>\n",
       "      <th>text</th>\n",
       "      <th>summary</th>\n",
       "      <th>text_length</th>\n",
       "      <th>summ_length</th>\n",
       "      <th>compression</th>\n",
       "    </tr>\n",
       "  </thead>\n",
       "  <tbody>\n",
       "    <tr>\n",
       "      <th>1</th>\n",
       "      <td>WASHINGTON, Dec. 23 - The National Security Ag...</td>\n",
       "      <td>The volume of information harvested, without \\...</td>\n",
       "      <td>643</td>\n",
       "      <td>17</td>\n",
       "      <td>37.823529</td>\n",
       "    </tr>\n",
       "    <tr>\n",
       "      <th>2</th>\n",
       "      <td>IF outsized executive pay has indeed become a ...</td>\n",
       "      <td>The battle between Pfizer Inc.'s investors and...</td>\n",
       "      <td>728</td>\n",
       "      <td>23</td>\n",
       "      <td>31.652174</td>\n",
       "    </tr>\n",
       "    <tr>\n",
       "      <th>3</th>\n",
       "      <td>BY A.J. BENZA &amp; MICHAEL LEWITTES\\n\\nIf Simon R...</td>\n",
       "      <td>If Simon Rex looks a little familiar, it may n...</td>\n",
       "      <td>790</td>\n",
       "      <td>72</td>\n",
       "      <td>10.972222</td>\n",
       "    </tr>\n",
       "    <tr>\n",
       "      <th>6</th>\n",
       "      <td>With Police Commissioner Bernard Kerik crackin...</td>\n",
       "      <td>By JOHN MARZULLI DAILY NEWS POLICE BUREAU CHIE...</td>\n",
       "      <td>1299</td>\n",
       "      <td>74</td>\n",
       "      <td>17.554054</td>\n",
       "    </tr>\n",
       "    <tr>\n",
       "      <th>8</th>\n",
       "      <td>BY GEORGE RUSH AND JOANNA MOLLOY With Kasia An...</td>\n",
       "      <td>Did Tatum O'Neal's latest battle with ex-husba...</td>\n",
       "      <td>1142</td>\n",
       "      <td>65</td>\n",
       "      <td>17.569231</td>\n",
       "    </tr>\n",
       "  </tbody>\n",
       "</table>\n",
       "</div>"
      ],
      "text/plain": [
       "                                                text  \\\n",
       "1  WASHINGTON, Dec. 23 - The National Security Ag...   \n",
       "2  IF outsized executive pay has indeed become a ...   \n",
       "3  BY A.J. BENZA & MICHAEL LEWITTES\\n\\nIf Simon R...   \n",
       "6  With Police Commissioner Bernard Kerik crackin...   \n",
       "8  BY GEORGE RUSH AND JOANNA MOLLOY With Kasia An...   \n",
       "\n",
       "                                             summary  text_length  \\\n",
       "1  The volume of information harvested, without \\...          643   \n",
       "2  The battle between Pfizer Inc.'s investors and...          728   \n",
       "3  If Simon Rex looks a little familiar, it may n...          790   \n",
       "6  By JOHN MARZULLI DAILY NEWS POLICE BUREAU CHIE...         1299   \n",
       "8  Did Tatum O'Neal's latest battle with ex-husba...         1142   \n",
       "\n",
       "   summ_length  compression  \n",
       "1           17    37.823529  \n",
       "2           23    31.652174  \n",
       "3           72    10.972222  \n",
       "6           74    17.554054  \n",
       "8           65    17.569231  "
      ]
     },
     "execution_count": 34,
     "metadata": {},
     "output_type": "execute_result"
    }
   ],
   "source": [
    "train_df['text_length'] = [len(x.split()) for x in train_df.text]\n",
    "val_df['text_length'] = [len(x.split()) for x in val_df.text]\n",
    "train_df['summ_length'] = [len(x.split()) for x in train_df.summary]\n",
    "val_df['summ_length'] = [len(x.split()) for x in val_df.summary]\n",
    "train_df.head()"
   ]
  },
  {
   "cell_type": "code",
   "execution_count": 35,
   "metadata": {
    "ExecuteTime": {
     "end_time": "2019-06-24T23:36:02.228727Z",
     "start_time": "2019-06-24T23:36:01.404489Z"
    }
   },
   "outputs": [
    {
     "name": "stderr",
     "output_type": "stream",
     "text": [
      "/Users/evan/anaconda3/envs/ml/lib/python3.6/site-packages/ipykernel_launcher.py:1: SettingWithCopyWarning: \n",
      "A value is trying to be set on a copy of a slice from a DataFrame.\n",
      "Try using .loc[row_indexer,col_indexer] = value instead\n",
      "\n",
      "See the caveats in the documentation: http://pandas.pydata.org/pandas-docs/stable/indexing.html#indexing-view-versus-copy\n",
      "  \"\"\"Entry point for launching an IPython kernel.\n",
      "/Users/evan/anaconda3/envs/ml/lib/python3.6/site-packages/ipykernel_launcher.py:2: SettingWithCopyWarning: \n",
      "A value is trying to be set on a copy of a slice from a DataFrame.\n",
      "Try using .loc[row_indexer,col_indexer] = value instead\n",
      "\n",
      "See the caveats in the documentation: http://pandas.pydata.org/pandas-docs/stable/indexing.html#indexing-view-versus-copy\n",
      "  \n"
     ]
    }
   ],
   "source": [
    "train_df['compression'] = train_df.text_length/train_df.summ_length\n",
    "val_df['compression'] = val_df.text_length/val_df.summ_length"
   ]
  },
  {
   "cell_type": "code",
   "execution_count": 36,
   "metadata": {
    "ExecuteTime": {
     "end_time": "2019-06-24T23:36:04.639736Z",
     "start_time": "2019-06-24T23:36:04.572570Z"
    }
   },
   "outputs": [
    {
     "data": {
      "text/html": [
       "<div>\n",
       "<style scoped>\n",
       "    .dataframe tbody tr th:only-of-type {\n",
       "        vertical-align: middle;\n",
       "    }\n",
       "\n",
       "    .dataframe tbody tr th {\n",
       "        vertical-align: top;\n",
       "    }\n",
       "\n",
       "    .dataframe thead th {\n",
       "        text-align: right;\n",
       "    }\n",
       "</style>\n",
       "<table border=\"1\" class=\"dataframe\">\n",
       "  <thead>\n",
       "    <tr style=\"text-align: right;\">\n",
       "      <th></th>\n",
       "      <th>text_length</th>\n",
       "      <th>summ_length</th>\n",
       "      <th>compression</th>\n",
       "    </tr>\n",
       "  </thead>\n",
       "  <tbody>\n",
       "    <tr>\n",
       "      <th>count</th>\n",
       "      <td>423008.000000</td>\n",
       "      <td>423008.000000</td>\n",
       "      <td>423008.000000</td>\n",
       "    </tr>\n",
       "    <tr>\n",
       "      <th>mean</th>\n",
       "      <td>579.201228</td>\n",
       "      <td>26.433807</td>\n",
       "      <td>23.111404</td>\n",
       "    </tr>\n",
       "    <tr>\n",
       "      <th>std</th>\n",
       "      <td>290.141769</td>\n",
       "      <td>12.463791</td>\n",
       "      <td>9.346503</td>\n",
       "    </tr>\n",
       "    <tr>\n",
       "      <th>min</th>\n",
       "      <td>41.000000</td>\n",
       "      <td>1.000000</td>\n",
       "      <td>5.722222</td>\n",
       "    </tr>\n",
       "    <tr>\n",
       "      <th>25%</th>\n",
       "      <td>362.000000</td>\n",
       "      <td>19.000000</td>\n",
       "      <td>15.100000</td>\n",
       "    </tr>\n",
       "    <tr>\n",
       "      <th>50%</th>\n",
       "      <td>537.000000</td>\n",
       "      <td>24.000000</td>\n",
       "      <td>21.761905</td>\n",
       "    </tr>\n",
       "    <tr>\n",
       "      <th>75%</th>\n",
       "      <td>754.000000</td>\n",
       "      <td>31.000000</td>\n",
       "      <td>30.178571</td>\n",
       "    </tr>\n",
       "    <tr>\n",
       "      <th>max</th>\n",
       "      <td>12254.000000</td>\n",
       "      <td>615.000000</td>\n",
       "      <td>217.000000</td>\n",
       "    </tr>\n",
       "  </tbody>\n",
       "</table>\n",
       "</div>"
      ],
      "text/plain": [
       "         text_length    summ_length    compression\n",
       "count  423008.000000  423008.000000  423008.000000\n",
       "mean      579.201228      26.433807      23.111404\n",
       "std       290.141769      12.463791       9.346503\n",
       "min        41.000000       1.000000       5.722222\n",
       "25%       362.000000      19.000000      15.100000\n",
       "50%       537.000000      24.000000      21.761905\n",
       "75%       754.000000      31.000000      30.178571\n",
       "max     12254.000000     615.000000     217.000000"
      ]
     },
     "execution_count": 36,
     "metadata": {},
     "output_type": "execute_result"
    }
   ],
   "source": [
    "train_df.describe()"
   ]
  },
  {
   "cell_type": "code",
   "execution_count": 37,
   "metadata": {
    "ExecuteTime": {
     "end_time": "2019-06-24T23:36:13.822029Z",
     "start_time": "2019-06-24T23:36:13.796423Z"
    }
   },
   "outputs": [
    {
     "data": {
      "text/html": [
       "<div>\n",
       "<style scoped>\n",
       "    .dataframe tbody tr th:only-of-type {\n",
       "        vertical-align: middle;\n",
       "    }\n",
       "\n",
       "    .dataframe tbody tr th {\n",
       "        vertical-align: top;\n",
       "    }\n",
       "\n",
       "    .dataframe thead th {\n",
       "        text-align: right;\n",
       "    }\n",
       "</style>\n",
       "<table border=\"1\" class=\"dataframe\">\n",
       "  <thead>\n",
       "    <tr style=\"text-align: right;\">\n",
       "      <th></th>\n",
       "      <th>text_length</th>\n",
       "      <th>summ_length</th>\n",
       "      <th>compression</th>\n",
       "    </tr>\n",
       "  </thead>\n",
       "  <tbody>\n",
       "    <tr>\n",
       "      <th>count</th>\n",
       "      <td>46289.000000</td>\n",
       "      <td>46289.000000</td>\n",
       "      <td>46289.000000</td>\n",
       "    </tr>\n",
       "    <tr>\n",
       "      <th>mean</th>\n",
       "      <td>578.243665</td>\n",
       "      <td>26.484888</td>\n",
       "      <td>23.041093</td>\n",
       "    </tr>\n",
       "    <tr>\n",
       "      <th>std</th>\n",
       "      <td>291.487998</td>\n",
       "      <td>12.770314</td>\n",
       "      <td>9.340513</td>\n",
       "    </tr>\n",
       "    <tr>\n",
       "      <th>min</th>\n",
       "      <td>58.000000</td>\n",
       "      <td>1.000000</td>\n",
       "      <td>7.166667</td>\n",
       "    </tr>\n",
       "    <tr>\n",
       "      <th>25%</th>\n",
       "      <td>359.000000</td>\n",
       "      <td>19.000000</td>\n",
       "      <td>15.000000</td>\n",
       "    </tr>\n",
       "    <tr>\n",
       "      <th>50%</th>\n",
       "      <td>535.000000</td>\n",
       "      <td>24.000000</td>\n",
       "      <td>21.663551</td>\n",
       "    </tr>\n",
       "    <tr>\n",
       "      <th>75%</th>\n",
       "      <td>752.000000</td>\n",
       "      <td>31.000000</td>\n",
       "      <td>30.071429</td>\n",
       "    </tr>\n",
       "    <tr>\n",
       "      <th>max</th>\n",
       "      <td>8506.000000</td>\n",
       "      <td>508.000000</td>\n",
       "      <td>119.500000</td>\n",
       "    </tr>\n",
       "  </tbody>\n",
       "</table>\n",
       "</div>"
      ],
      "text/plain": [
       "        text_length   summ_length   compression\n",
       "count  46289.000000  46289.000000  46289.000000\n",
       "mean     578.243665     26.484888     23.041093\n",
       "std      291.487998     12.770314      9.340513\n",
       "min       58.000000      1.000000      7.166667\n",
       "25%      359.000000     19.000000     15.000000\n",
       "50%      535.000000     24.000000     21.663551\n",
       "75%      752.000000     31.000000     30.071429\n",
       "max     8506.000000    508.000000    119.500000"
      ]
     },
     "execution_count": 37,
     "metadata": {},
     "output_type": "execute_result"
    }
   ],
   "source": [
    "val_df.describe()"
   ]
  },
  {
   "cell_type": "code",
   "execution_count": 43,
   "metadata": {
    "ExecuteTime": {
     "end_time": "2019-06-24T23:41:27.117187Z",
     "start_time": "2019-06-24T23:41:27.077122Z"
    }
   },
   "outputs": [
    {
     "data": {
      "text/plain": [
       "(190802, 5)"
      ]
     },
     "execution_count": 43,
     "metadata": {},
     "output_type": "execute_result"
    }
   ],
   "source": [
    "train_df2 = train_df[(train_df.text_length > 300)\n",
    "                     & (train_df.text_length < 800)\n",
    "                     & (train_df.summ_length > 15) \n",
    "                    & (train_df.summ_length < 40)\n",
    "                    & (train_df.compression > 12)\n",
    "                    & (train_df.compression < 35)]\n",
    "train_df2.shape"
   ]
  },
  {
   "cell_type": "code",
   "execution_count": 45,
   "metadata": {
    "ExecuteTime": {
     "end_time": "2019-06-24T23:42:29.122738Z",
     "start_time": "2019-06-24T23:42:29.107851Z"
    }
   },
   "outputs": [
    {
     "data": {
      "text/plain": [
       "(20892, 5)"
      ]
     },
     "execution_count": 45,
     "metadata": {},
     "output_type": "execute_result"
    }
   ],
   "source": [
    "val_df2 = val_df[(val_df.text_length > 300)\n",
    "                     & (val_df.text_length < 800)\n",
    "                     & (val_df.summ_length > 15) \n",
    "                    & (val_df.summ_length < 40)\n",
    "                    & (val_df.compression > 12)\n",
    "                    & (val_df.compression < 35)]\n",
    "val_df2.shape"
   ]
  },
  {
   "cell_type": "code",
   "execution_count": 49,
   "metadata": {
    "ExecuteTime": {
     "end_time": "2019-06-24T23:45:54.257828Z",
     "start_time": "2019-06-24T23:45:54.209367Z"
    }
   },
   "outputs": [
    {
     "data": {
      "text/html": [
       "<div>\n",
       "<style scoped>\n",
       "    .dataframe tbody tr th:only-of-type {\n",
       "        vertical-align: middle;\n",
       "    }\n",
       "\n",
       "    .dataframe tbody tr th {\n",
       "        vertical-align: top;\n",
       "    }\n",
       "\n",
       "    .dataframe thead th {\n",
       "        text-align: right;\n",
       "    }\n",
       "</style>\n",
       "<table border=\"1\" class=\"dataframe\">\n",
       "  <thead>\n",
       "    <tr style=\"text-align: right;\">\n",
       "      <th></th>\n",
       "      <th>text_length</th>\n",
       "      <th>summ_length</th>\n",
       "      <th>compression</th>\n",
       "    </tr>\n",
       "  </thead>\n",
       "  <tbody>\n",
       "    <tr>\n",
       "      <th>count</th>\n",
       "      <td>190802.000000</td>\n",
       "      <td>190802.000000</td>\n",
       "      <td>190802.000000</td>\n",
       "    </tr>\n",
       "    <tr>\n",
       "      <th>mean</th>\n",
       "      <td>533.587698</td>\n",
       "      <td>25.240385</td>\n",
       "      <td>21.786813</td>\n",
       "    </tr>\n",
       "    <tr>\n",
       "      <th>std</th>\n",
       "      <td>135.653450</td>\n",
       "      <td>5.693368</td>\n",
       "      <td>5.996497</td>\n",
       "    </tr>\n",
       "    <tr>\n",
       "      <th>min</th>\n",
       "      <td>301.000000</td>\n",
       "      <td>16.000000</td>\n",
       "      <td>12.025641</td>\n",
       "    </tr>\n",
       "    <tr>\n",
       "      <th>25%</th>\n",
       "      <td>421.000000</td>\n",
       "      <td>21.000000</td>\n",
       "      <td>16.826087</td>\n",
       "    </tr>\n",
       "    <tr>\n",
       "      <th>50%</th>\n",
       "      <td>523.000000</td>\n",
       "      <td>24.000000</td>\n",
       "      <td>21.100000</td>\n",
       "    </tr>\n",
       "    <tr>\n",
       "      <th>75%</th>\n",
       "      <td>644.000000</td>\n",
       "      <td>29.000000</td>\n",
       "      <td>26.344828</td>\n",
       "    </tr>\n",
       "    <tr>\n",
       "      <th>max</th>\n",
       "      <td>799.000000</td>\n",
       "      <td>39.000000</td>\n",
       "      <td>34.954545</td>\n",
       "    </tr>\n",
       "  </tbody>\n",
       "</table>\n",
       "</div>"
      ],
      "text/plain": [
       "         text_length    summ_length    compression\n",
       "count  190802.000000  190802.000000  190802.000000\n",
       "mean      533.587698      25.240385      21.786813\n",
       "std       135.653450       5.693368       5.996497\n",
       "min       301.000000      16.000000      12.025641\n",
       "25%       421.000000      21.000000      16.826087\n",
       "50%       523.000000      24.000000      21.100000\n",
       "75%       644.000000      29.000000      26.344828\n",
       "max       799.000000      39.000000      34.954545"
      ]
     },
     "execution_count": 49,
     "metadata": {},
     "output_type": "execute_result"
    }
   ],
   "source": [
    "train_df2.describe()"
   ]
  },
  {
   "cell_type": "code",
   "execution_count": 54,
   "metadata": {
    "ExecuteTime": {
     "end_time": "2019-06-24T23:50:23.050758Z",
     "start_time": "2019-06-24T23:50:23.016719Z"
    }
   },
   "outputs": [
    {
     "data": {
      "text/html": [
       "<div>\n",
       "<style scoped>\n",
       "    .dataframe tbody tr th:only-of-type {\n",
       "        vertical-align: middle;\n",
       "    }\n",
       "\n",
       "    .dataframe tbody tr th {\n",
       "        vertical-align: top;\n",
       "    }\n",
       "\n",
       "    .dataframe thead th {\n",
       "        text-align: right;\n",
       "    }\n",
       "</style>\n",
       "<table border=\"1\" class=\"dataframe\">\n",
       "  <thead>\n",
       "    <tr style=\"text-align: right;\">\n",
       "      <th></th>\n",
       "      <th>text</th>\n",
       "      <th>summary</th>\n",
       "      <th>text_length</th>\n",
       "      <th>summ_length</th>\n",
       "      <th>compression</th>\n",
       "    </tr>\n",
       "  </thead>\n",
       "  <tbody>\n",
       "    <tr>\n",
       "      <th>0</th>\n",
       "      <td>IF outsized executive pay has indeed become a ...</td>\n",
       "      <td>The battle between Pfizer Inc.'s investors and...</td>\n",
       "      <td>728</td>\n",
       "      <td>23</td>\n",
       "      <td>31.652174</td>\n",
       "    </tr>\n",
       "    <tr>\n",
       "      <th>1</th>\n",
       "      <td>John Edwards' former aide said he is \"skeptica...</td>\n",
       "      <td>John Edwards'  former aide Andrew Young says t...</td>\n",
       "      <td>409</td>\n",
       "      <td>28</td>\n",
       "      <td>14.607143</td>\n",
       "    </tr>\n",
       "    <tr>\n",
       "      <th>2</th>\n",
       "      <td>has agreed to pay $110 million to settle consu...</td>\n",
       "      <td>JPMorgan Chase  has agreed to pay $110 million...</td>\n",
       "      <td>404</td>\n",
       "      <td>19</td>\n",
       "      <td>21.263158</td>\n",
       "    </tr>\n",
       "    <tr>\n",
       "      <th>3</th>\n",
       "      <td>JOSEPH AYERS was crouched over a laptop in a c...</td>\n",
       "      <td>Researchers developing robotic lobsters, flies...</td>\n",
       "      <td>705</td>\n",
       "      <td>26</td>\n",
       "      <td>27.115385</td>\n",
       "    </tr>\n",
       "    <tr>\n",
       "      <th>4</th>\n",
       "      <td>P.J. CLARKE'S ON THE HUDSON | SATISFACTORY\\n\\n...</td>\n",
       "      <td>P.J. Clarke's on the Hudson is better than sno...</td>\n",
       "      <td>708</td>\n",
       "      <td>21</td>\n",
       "      <td>33.714286</td>\n",
       "    </tr>\n",
       "  </tbody>\n",
       "</table>\n",
       "</div>"
      ],
      "text/plain": [
       "                                                text  \\\n",
       "0  IF outsized executive pay has indeed become a ...   \n",
       "1  John Edwards' former aide said he is \"skeptica...   \n",
       "2  has agreed to pay $110 million to settle consu...   \n",
       "3  JOSEPH AYERS was crouched over a laptop in a c...   \n",
       "4  P.J. CLARKE'S ON THE HUDSON | SATISFACTORY\\n\\n...   \n",
       "\n",
       "                                             summary  text_length  \\\n",
       "0  The battle between Pfizer Inc.'s investors and...          728   \n",
       "1  John Edwards'  former aide Andrew Young says t...          409   \n",
       "2  JPMorgan Chase  has agreed to pay $110 million...          404   \n",
       "3  Researchers developing robotic lobsters, flies...          705   \n",
       "4  P.J. Clarke's on the Hudson is better than sno...          708   \n",
       "\n",
       "   summ_length  compression  \n",
       "0           23    31.652174  \n",
       "1           28    14.607143  \n",
       "2           19    21.263158  \n",
       "3           26    27.115385  \n",
       "4           21    33.714286  "
      ]
     },
     "execution_count": 54,
     "metadata": {},
     "output_type": "execute_result"
    }
   ],
   "source": [
    "combo_df = pd.concat([train_df2, val_df2], ignore_index=True)\n",
    "combo_df.head()"
   ]
  },
  {
   "cell_type": "code",
   "execution_count": 56,
   "metadata": {
    "ExecuteTime": {
     "end_time": "2019-06-24T23:50:33.548550Z",
     "start_time": "2019-06-24T23:50:33.544972Z"
    }
   },
   "outputs": [
    {
     "data": {
      "text/plain": [
       "(211694, 5)"
      ]
     },
     "execution_count": 56,
     "metadata": {},
     "output_type": "execute_result"
    }
   ],
   "source": [
    "combo_df.shape"
   ]
  },
  {
   "cell_type": "code",
   "execution_count": 59,
   "metadata": {
    "ExecuteTime": {
     "end_time": "2019-06-25T00:02:13.734863Z",
     "start_time": "2019-06-25T00:02:13.728583Z"
    }
   },
   "outputs": [],
   "source": [
    "train_df3 = train_df2\n",
    "val_df3 = val_df2"
   ]
  },
  {
   "cell_type": "code",
   "execution_count": null,
   "metadata": {
    "ExecuteTime": {
     "end_time": "2019-06-24T23:53:42.576455Z",
     "start_time": "2019-06-24T23:50:47.224830Z"
    }
   },
   "outputs": [],
   "source": [
    "encode_dataset(combo_df, vocab, inv_vocab, build_vocab=True, emb=word2vec)"
   ]
  },
  {
   "cell_type": "code",
   "execution_count": 58,
   "metadata": {
    "ExecuteTime": {
     "end_time": "2019-06-24T23:55:46.190459Z",
     "start_time": "2019-06-24T23:55:46.170375Z"
    }
   },
   "outputs": [
    {
     "data": {
      "text/html": [
       "<div>\n",
       "<style scoped>\n",
       "    .dataframe tbody tr th:only-of-type {\n",
       "        vertical-align: middle;\n",
       "    }\n",
       "\n",
       "    .dataframe tbody tr th {\n",
       "        vertical-align: top;\n",
       "    }\n",
       "\n",
       "    .dataframe thead th {\n",
       "        text-align: right;\n",
       "    }\n",
       "</style>\n",
       "<table border=\"1\" class=\"dataframe\">\n",
       "  <thead>\n",
       "    <tr style=\"text-align: right;\">\n",
       "      <th></th>\n",
       "      <th>text</th>\n",
       "      <th>summary</th>\n",
       "      <th>text_length</th>\n",
       "      <th>summ_length</th>\n",
       "      <th>compression</th>\n",
       "    </tr>\n",
       "  </thead>\n",
       "  <tbody>\n",
       "    <tr>\n",
       "      <th>0</th>\n",
       "      <td>[1, 4, 5, 6, 7, 8, 9, 10, 11, 12, 13, 14, 15, ...</td>\n",
       "      <td>[1, 16, 31, 20, 21, 22, 23, 24, 25, 150, 68, 1...</td>\n",
       "      <td>728</td>\n",
       "      <td>23</td>\n",
       "      <td>31.652174</td>\n",
       "    </tr>\n",
       "    <tr>\n",
       "      <th>1</th>\n",
       "      <td>[1, 164, 338, 339, 340, 163, 61, 90, 341, 97, ...</td>\n",
       "      <td>[1, 164, 338, 339, 340, 354, 355, 262, 16, 52,...</td>\n",
       "      <td>409</td>\n",
       "      <td>28</td>\n",
       "      <td>14.607143</td>\n",
       "    </tr>\n",
       "    <tr>\n",
       "      <th>2</th>\n",
       "      <td>[1, 8, 407, 7, 59, 482, 483, 484, 485, 132, 48...</td>\n",
       "      <td>[1, 528, 630, 8, 407, 7, 59, 482, 483, 484, 48...</td>\n",
       "      <td>404</td>\n",
       "      <td>19</td>\n",
       "      <td>21.263158</td>\n",
       "    </tr>\n",
       "    <tr>\n",
       "      <th>3</th>\n",
       "      <td>[1, 631, 632, 385, 633, 75, 634, 47, 635, 636,...</td>\n",
       "      <td>[1, 752, 760, 711, 761, 762, 763, 767, 768, 97...</td>\n",
       "      <td>705</td>\n",
       "      <td>26</td>\n",
       "      <td>27.115385</td>\n",
       "    </tr>\n",
       "    <tr>\n",
       "      <th>4</th>\n",
       "      <td>[1, 917, 918, 919, 41, 16, 920, 921, 427, 110,...</td>\n",
       "      <td>[1, 917, 918, 919, 41, 16, 920, 90, 853, 127, ...</td>\n",
       "      <td>708</td>\n",
       "      <td>21</td>\n",
       "      <td>33.714286</td>\n",
       "    </tr>\n",
       "  </tbody>\n",
       "</table>\n",
       "</div>"
      ],
      "text/plain": [
       "                                                text  \\\n",
       "0  [1, 4, 5, 6, 7, 8, 9, 10, 11, 12, 13, 14, 15, ...   \n",
       "1  [1, 164, 338, 339, 340, 163, 61, 90, 341, 97, ...   \n",
       "2  [1, 8, 407, 7, 59, 482, 483, 484, 485, 132, 48...   \n",
       "3  [1, 631, 632, 385, 633, 75, 634, 47, 635, 636,...   \n",
       "4  [1, 917, 918, 919, 41, 16, 920, 921, 427, 110,...   \n",
       "\n",
       "                                             summary  text_length  \\\n",
       "0  [1, 16, 31, 20, 21, 22, 23, 24, 25, 150, 68, 1...          728   \n",
       "1  [1, 164, 338, 339, 340, 354, 355, 262, 16, 52,...          409   \n",
       "2  [1, 528, 630, 8, 407, 7, 59, 482, 483, 484, 48...          404   \n",
       "3  [1, 752, 760, 711, 761, 762, 763, 767, 768, 97...          705   \n",
       "4  [1, 917, 918, 919, 41, 16, 920, 90, 853, 127, ...          708   \n",
       "\n",
       "   summ_length  compression  \n",
       "0           23    31.652174  \n",
       "1           28    14.607143  \n",
       "2           19    21.263158  \n",
       "3           26    27.115385  \n",
       "4           21    33.714286  "
      ]
     },
     "execution_count": 58,
     "metadata": {},
     "output_type": "execute_result"
    }
   ],
   "source": [
    "combo_df.head()"
   ]
  },
  {
   "cell_type": "code",
   "execution_count": 60,
   "metadata": {
    "ExecuteTime": {
     "end_time": "2019-06-25T00:04:51.575586Z",
     "start_time": "2019-06-25T00:02:21.549713Z"
    }
   },
   "outputs": [],
   "source": [
    "encode_dataset(train_df2, vocab, inv_vocab, emb=word2vec)"
   ]
  },
  {
   "cell_type": "code",
   "execution_count": 61,
   "metadata": {
    "ExecuteTime": {
     "end_time": "2019-06-25T00:05:08.447057Z",
     "start_time": "2019-06-25T00:04:51.579003Z"
    }
   },
   "outputs": [],
   "source": [
    "encode_dataset(val_df2, vocab, inv_vocab, emb=word2vec)"
   ]
  },
  {
   "cell_type": "code",
   "execution_count": 76,
   "metadata": {
    "ExecuteTime": {
     "end_time": "2019-06-25T00:12:44.119702Z",
     "start_time": "2019-06-25T00:12:44.090535Z"
    }
   },
   "outputs": [
    {
     "data": {
      "text/html": [
       "<div>\n",
       "<style scoped>\n",
       "    .dataframe tbody tr th:only-of-type {\n",
       "        vertical-align: middle;\n",
       "    }\n",
       "\n",
       "    .dataframe tbody tr th {\n",
       "        vertical-align: top;\n",
       "    }\n",
       "\n",
       "    .dataframe thead th {\n",
       "        text-align: right;\n",
       "    }\n",
       "</style>\n",
       "<table border=\"1\" class=\"dataframe\">\n",
       "  <thead>\n",
       "    <tr style=\"text-align: right;\">\n",
       "      <th></th>\n",
       "      <th>text</th>\n",
       "      <th>summary</th>\n",
       "      <th>text_length</th>\n",
       "      <th>summ_length</th>\n",
       "      <th>compression</th>\n",
       "    </tr>\n",
       "  </thead>\n",
       "  <tbody>\n",
       "    <tr>\n",
       "      <th>0</th>\n",
       "      <td>[1, 4, 5, 6, 7, 8, 9, 10, 11, 12, 13, 14, 15, ...</td>\n",
       "      <td>[1, 16, 31, 20, 21, 22, 23, 24, 25, 150, 68, 1...</td>\n",
       "      <td>728</td>\n",
       "      <td>23</td>\n",
       "      <td>31.652174</td>\n",
       "    </tr>\n",
       "    <tr>\n",
       "      <th>1</th>\n",
       "      <td>[1, 164, 338, 339, 340, 163, 61, 90, 341, 97, ...</td>\n",
       "      <td>[1, 164, 338, 339, 340, 354, 355, 262, 16, 52,...</td>\n",
       "      <td>409</td>\n",
       "      <td>28</td>\n",
       "      <td>14.607143</td>\n",
       "    </tr>\n",
       "    <tr>\n",
       "      <th>2</th>\n",
       "      <td>[1, 8, 407, 7, 59, 482, 483, 484, 485, 132, 48...</td>\n",
       "      <td>[1, 528, 630, 8, 407, 7, 59, 482, 483, 484, 48...</td>\n",
       "      <td>404</td>\n",
       "      <td>19</td>\n",
       "      <td>21.263158</td>\n",
       "    </tr>\n",
       "    <tr>\n",
       "      <th>3</th>\n",
       "      <td>[1, 631, 632, 385, 633, 75, 634, 47, 635, 636,...</td>\n",
       "      <td>[1, 752, 760, 711, 761, 762, 763, 767, 768, 97...</td>\n",
       "      <td>705</td>\n",
       "      <td>26</td>\n",
       "      <td>27.115385</td>\n",
       "    </tr>\n",
       "    <tr>\n",
       "      <th>4</th>\n",
       "      <td>[1, 917, 918, 919, 41, 16, 920, 921, 427, 110,...</td>\n",
       "      <td>[1, 917, 918, 919, 41, 16, 920, 90, 853, 127, ...</td>\n",
       "      <td>708</td>\n",
       "      <td>21</td>\n",
       "      <td>33.714286</td>\n",
       "    </tr>\n",
       "  </tbody>\n",
       "</table>\n",
       "</div>"
      ],
      "text/plain": [
       "                                                text  \\\n",
       "0  [1, 4, 5, 6, 7, 8, 9, 10, 11, 12, 13, 14, 15, ...   \n",
       "1  [1, 164, 338, 339, 340, 163, 61, 90, 341, 97, ...   \n",
       "2  [1, 8, 407, 7, 59, 482, 483, 484, 485, 132, 48...   \n",
       "3  [1, 631, 632, 385, 633, 75, 634, 47, 635, 636,...   \n",
       "4  [1, 917, 918, 919, 41, 16, 920, 921, 427, 110,...   \n",
       "\n",
       "                                             summary  text_length  \\\n",
       "0  [1, 16, 31, 20, 21, 22, 23, 24, 25, 150, 68, 1...          728   \n",
       "1  [1, 164, 338, 339, 340, 354, 355, 262, 16, 52,...          409   \n",
       "2  [1, 528, 630, 8, 407, 7, 59, 482, 483, 484, 48...          404   \n",
       "3  [1, 752, 760, 711, 761, 762, 763, 767, 768, 97...          705   \n",
       "4  [1, 917, 918, 919, 41, 16, 920, 90, 853, 127, ...          708   \n",
       "\n",
       "   summ_length  compression  \n",
       "0           23    31.652174  \n",
       "1           28    14.607143  \n",
       "2           19    21.263158  \n",
       "3           26    27.115385  \n",
       "4           21    33.714286  "
      ]
     },
     "execution_count": 76,
     "metadata": {},
     "output_type": "execute_result"
    }
   ],
   "source": [
    "train_df2.drop(columns=['level_0', 'index'], inplace=True)\n",
    "train_df2.head()"
   ]
  },
  {
   "cell_type": "code",
   "execution_count": 78,
   "metadata": {
    "ExecuteTime": {
     "end_time": "2019-06-25T00:13:30.903488Z",
     "start_time": "2019-06-25T00:13:30.873639Z"
    }
   },
   "outputs": [
    {
     "data": {
      "text/html": [
       "<div>\n",
       "<style scoped>\n",
       "    .dataframe tbody tr th:only-of-type {\n",
       "        vertical-align: middle;\n",
       "    }\n",
       "\n",
       "    .dataframe tbody tr th {\n",
       "        vertical-align: top;\n",
       "    }\n",
       "\n",
       "    .dataframe thead th {\n",
       "        text-align: right;\n",
       "    }\n",
       "</style>\n",
       "<table border=\"1\" class=\"dataframe\">\n",
       "  <thead>\n",
       "    <tr style=\"text-align: right;\">\n",
       "      <th></th>\n",
       "      <th>text</th>\n",
       "      <th>summary</th>\n",
       "      <th>text_length</th>\n",
       "      <th>summ_length</th>\n",
       "      <th>compression</th>\n",
       "    </tr>\n",
       "  </thead>\n",
       "  <tbody>\n",
       "    <tr>\n",
       "      <th>0</th>\n",
       "      <td>[1, 141, 27985, 1907, 4217, 718, 1538, 1060, 1...</td>\n",
       "      <td>[1, 1060, 1184, 9781, 781, 8153, 12564, 3858, ...</td>\n",
       "      <td>516</td>\n",
       "      <td>32</td>\n",
       "      <td>16.125000</td>\n",
       "    </tr>\n",
       "    <tr>\n",
       "      <th>1</th>\n",
       "      <td>[1, 47, 52, 1318, 10385, 6517, 12543, 16, 694,...</td>\n",
       "      <td>[1, 12543, 1186, 712, 10511, 8110, 145, 320, 9...</td>\n",
       "      <td>565</td>\n",
       "      <td>17</td>\n",
       "      <td>33.235294</td>\n",
       "    </tr>\n",
       "    <tr>\n",
       "      <th>2</th>\n",
       "      <td>[1, 70, 16, 23828, 3437, 28360, 14235, 145, 29...</td>\n",
       "      <td>[1, 41, 320, 1956, 9097, 551, 4208, 628, 2325,...</td>\n",
       "      <td>484</td>\n",
       "      <td>28</td>\n",
       "      <td>17.285714</td>\n",
       "    </tr>\n",
       "    <tr>\n",
       "      <th>3</th>\n",
       "      <td>[1, 43, 399, 1594, 6502, 19817, 90, 390, 1841,...</td>\n",
       "      <td>[1, 16, 339, 551, 1367, 12088, 1956, 5600, 487...</td>\n",
       "      <td>367</td>\n",
       "      <td>16</td>\n",
       "      <td>22.937500</td>\n",
       "    </tr>\n",
       "    <tr>\n",
       "      <th>4</th>\n",
       "      <td>[1, 1546, 4998, 78, 16, 13929, 11574, 5272, 91...</td>\n",
       "      <td>[1, 16, 17219, 90, 907, 551, 526, 7297, 1080, ...</td>\n",
       "      <td>443</td>\n",
       "      <td>36</td>\n",
       "      <td>12.305556</td>\n",
       "    </tr>\n",
       "  </tbody>\n",
       "</table>\n",
       "</div>"
      ],
      "text/plain": [
       "                                                text  \\\n",
       "0  [1, 141, 27985, 1907, 4217, 718, 1538, 1060, 1...   \n",
       "1  [1, 47, 52, 1318, 10385, 6517, 12543, 16, 694,...   \n",
       "2  [1, 70, 16, 23828, 3437, 28360, 14235, 145, 29...   \n",
       "3  [1, 43, 399, 1594, 6502, 19817, 90, 390, 1841,...   \n",
       "4  [1, 1546, 4998, 78, 16, 13929, 11574, 5272, 91...   \n",
       "\n",
       "                                             summary  text_length  \\\n",
       "0  [1, 1060, 1184, 9781, 781, 8153, 12564, 3858, ...          516   \n",
       "1  [1, 12543, 1186, 712, 10511, 8110, 145, 320, 9...          565   \n",
       "2  [1, 41, 320, 1956, 9097, 551, 4208, 628, 2325,...          484   \n",
       "3  [1, 16, 339, 551, 1367, 12088, 1956, 5600, 487...          367   \n",
       "4  [1, 16, 17219, 90, 907, 551, 526, 7297, 1080, ...          443   \n",
       "\n",
       "   summ_length  compression  \n",
       "0           32    16.125000  \n",
       "1           17    33.235294  \n",
       "2           28    17.285714  \n",
       "3           16    22.937500  \n",
       "4           36    12.305556  "
      ]
     },
     "execution_count": 78,
     "metadata": {},
     "output_type": "execute_result"
    }
   ],
   "source": [
    "val_df2.drop(columns=['level_0', 'index'], inplace=True)\n",
    "val_df2.head()"
   ]
  },
  {
   "cell_type": "code",
   "execution_count": 63,
   "metadata": {
    "ExecuteTime": {
     "end_time": "2019-06-25T00:06:07.795905Z",
     "start_time": "2019-06-25T00:06:07.791947Z"
    }
   },
   "outputs": [
    {
     "data": {
      "text/plain": [
       "(107447, 107447)"
      ]
     },
     "execution_count": 63,
     "metadata": {},
     "output_type": "execute_result"
    }
   ],
   "source": [
    "len(vocab), len(inv_vocab)"
   ]
  },
  {
   "cell_type": "code",
   "execution_count": 64,
   "metadata": {
    "ExecuteTime": {
     "end_time": "2019-06-25T00:06:33.441295Z",
     "start_time": "2019-06-25T00:06:33.375063Z"
    }
   },
   "outputs": [],
   "source": [
    "save_vocabs(vocab, inv_vocab)"
   ]
  },
  {
   "cell_type": "code",
   "execution_count": 79,
   "metadata": {
    "ExecuteTime": {
     "end_time": "2019-06-25T00:14:08.558617Z",
     "start_time": "2019-06-25T00:14:04.771721Z"
    }
   },
   "outputs": [],
   "source": [
    "with open(\"train_df_new.pkl\",\"wb\") as f:\n",
    "    pickle.dump(train_df2, f)\n",
    "    \n",
    "with open(\"val_df_new.pkl\",\"wb\") as f:\n",
    "    pickle.dump(val_df2, f)"
   ]
  },
  {
   "cell_type": "code",
   "execution_count": null,
   "metadata": {},
   "outputs": [],
   "source": []
  },
  {
   "cell_type": "code",
   "execution_count": 14,
   "metadata": {},
   "outputs": [],
   "source": [
    "save_vocabs(vocab, inv_vocab)\n",
    "train_df.to_csv('train_df.csv', index=False)"
   ]
  },
  {
   "cell_type": "markdown",
   "metadata": {},
   "source": [
    "### Read and encode dev/valid data"
   ]
  },
  {
   "cell_type": "code",
   "execution_count": null,
   "metadata": {},
   "outputs": [],
   "source": [
    "cols = ['text', 'summary']\n",
    "path = \"dev.jsonl.gz\"\n",
    "\n",
    "dev_data = read_json1(path)\n",
    "\n",
    "df = pd.DataFrame(dev_data)\n",
    "dev_df = pd.DataFrame(dev_data, columns=cols)"
   ]
  },
  {
   "cell_type": "code",
   "execution_count": null,
   "metadata": {},
   "outputs": [],
   "source": [
    "df.head()"
   ]
  },
  {
   "cell_type": "code",
   "execution_count": null,
   "metadata": {},
   "outputs": [],
   "source": [
    "dev_df.head()"
   ]
  },
  {
   "cell_type": "code",
   "execution_count": null,
   "metadata": {},
   "outputs": [],
   "source": [
    "encode_dataset(dev_df, vocab, inv_vocab)\n",
    "dev_df.head()"
   ]
  },
  {
   "cell_type": "code",
   "execution_count": null,
   "metadata": {},
   "outputs": [],
   "source": [
    "dev_df.to_csv('dev_df.csv', index=False)"
   ]
  },
  {
   "cell_type": "markdown",
   "metadata": {},
   "source": [
    "### Read and encode test data"
   ]
  },
  {
   "cell_type": "code",
   "execution_count": null,
   "metadata": {},
   "outputs": [],
   "source": [
    "cols = ['text', 'summary']\n",
    "path = \"test.jsonl.gz\"\n",
    "\n",
    "test_data = read_json1(path)\n",
    "\n",
    "df = pd.DataFrame(test_data)\n",
    "test_df = pd.DataFrame(test_data, columns=cols)"
   ]
  },
  {
   "cell_type": "code",
   "execution_count": null,
   "metadata": {},
   "outputs": [],
   "source": [
    "df.head()"
   ]
  },
  {
   "cell_type": "code",
   "execution_count": null,
   "metadata": {},
   "outputs": [],
   "source": [
    "test_df.head()"
   ]
  },
  {
   "cell_type": "code",
   "execution_count": null,
   "metadata": {},
   "outputs": [],
   "source": [
    "encode_dataset(test_df, vocab, inv_vocab)\n",
    "test_df.head()"
   ]
  },
  {
   "cell_type": "code",
   "execution_count": null,
   "metadata": {},
   "outputs": [],
   "source": [
    "test_df.to_csv('test_df.csv', index=False)"
   ]
  },
  {
   "cell_type": "code",
   "execution_count": null,
   "metadata": {},
   "outputs": [],
   "source": []
  },
  {
   "cell_type": "markdown",
   "metadata": {},
   "source": [
    "### Read in saved vocab, inverse vocab, and train data"
   ]
  },
  {
   "cell_type": "code",
   "execution_count": 66,
   "metadata": {
    "ExecuteTime": {
     "end_time": "2019-06-25T00:07:56.254358Z",
     "start_time": "2019-06-25T00:07:56.185548Z"
    }
   },
   "outputs": [],
   "source": [
    "with open('vocab.pkl', 'rb') as f:\n",
    "    vocab = pickle.load(f)\n",
    "\n",
    "with open('inv_vocab.pkl', 'rb') as f:\n",
    "    inv_vocab = pickle.load(f)\n",
    "    \n",
    "#train_df = pd.read_csv('train_df.csv')"
   ]
  },
  {
   "cell_type": "code",
   "execution_count": 67,
   "metadata": {
    "ExecuteTime": {
     "end_time": "2019-06-25T00:08:10.037900Z",
     "start_time": "2019-06-25T00:08:10.032735Z"
    }
   },
   "outputs": [
    {
     "data": {
      "text/plain": [
       "(107447, 107447)"
      ]
     },
     "execution_count": 67,
     "metadata": {},
     "output_type": "execute_result"
    }
   ],
   "source": [
    "len(vocab), len(inv_vocab)"
   ]
  },
  {
   "cell_type": "code",
   "execution_count": 6,
   "metadata": {
    "ExecuteTime": {
     "end_time": "2019-06-25T20:44:35.753194Z",
     "start_time": "2019-06-25T20:44:28.340069Z"
    }
   },
   "outputs": [
    {
     "data": {
      "text/html": [
       "<div>\n",
       "<style scoped>\n",
       "    .dataframe tbody tr th:only-of-type {\n",
       "        vertical-align: middle;\n",
       "    }\n",
       "\n",
       "    .dataframe tbody tr th {\n",
       "        vertical-align: top;\n",
       "    }\n",
       "\n",
       "    .dataframe thead th {\n",
       "        text-align: right;\n",
       "    }\n",
       "</style>\n",
       "<table border=\"1\" class=\"dataframe\">\n",
       "  <thead>\n",
       "    <tr style=\"text-align: right;\">\n",
       "      <th></th>\n",
       "      <th>text</th>\n",
       "      <th>summary</th>\n",
       "      <th>text_length</th>\n",
       "      <th>summ_length</th>\n",
       "      <th>compression</th>\n",
       "    </tr>\n",
       "  </thead>\n",
       "  <tbody>\n",
       "    <tr>\n",
       "      <th>0</th>\n",
       "      <td>[1, 4, 5, 6, 7, 8, 9, 10, 11, 12, 13, 14, 15, ...</td>\n",
       "      <td>[1, 16, 31, 20, 21, 22, 23, 24, 25, 150, 68, 1...</td>\n",
       "      <td>728</td>\n",
       "      <td>23</td>\n",
       "      <td>31.652174</td>\n",
       "    </tr>\n",
       "    <tr>\n",
       "      <th>1</th>\n",
       "      <td>[1, 164, 338, 339, 340, 163, 61, 90, 341, 97, ...</td>\n",
       "      <td>[1, 164, 338, 339, 340, 354, 355, 262, 16, 52,...</td>\n",
       "      <td>409</td>\n",
       "      <td>28</td>\n",
       "      <td>14.607143</td>\n",
       "    </tr>\n",
       "    <tr>\n",
       "      <th>2</th>\n",
       "      <td>[1, 8, 407, 7, 59, 482, 483, 484, 485, 132, 48...</td>\n",
       "      <td>[1, 528, 630, 8, 407, 7, 59, 482, 483, 484, 48...</td>\n",
       "      <td>404</td>\n",
       "      <td>19</td>\n",
       "      <td>21.263158</td>\n",
       "    </tr>\n",
       "    <tr>\n",
       "      <th>3</th>\n",
       "      <td>[1, 631, 632, 385, 633, 75, 634, 47, 635, 636,...</td>\n",
       "      <td>[1, 752, 760, 711, 761, 762, 763, 767, 768, 97...</td>\n",
       "      <td>705</td>\n",
       "      <td>26</td>\n",
       "      <td>27.115385</td>\n",
       "    </tr>\n",
       "    <tr>\n",
       "      <th>4</th>\n",
       "      <td>[1, 917, 918, 919, 41, 16, 920, 921, 427, 110,...</td>\n",
       "      <td>[1, 917, 918, 919, 41, 16, 920, 90, 853, 127, ...</td>\n",
       "      <td>708</td>\n",
       "      <td>21</td>\n",
       "      <td>33.714286</td>\n",
       "    </tr>\n",
       "  </tbody>\n",
       "</table>\n",
       "</div>"
      ],
      "text/plain": [
       "                                                text  \\\n",
       "0  [1, 4, 5, 6, 7, 8, 9, 10, 11, 12, 13, 14, 15, ...   \n",
       "1  [1, 164, 338, 339, 340, 163, 61, 90, 341, 97, ...   \n",
       "2  [1, 8, 407, 7, 59, 482, 483, 484, 485, 132, 48...   \n",
       "3  [1, 631, 632, 385, 633, 75, 634, 47, 635, 636,...   \n",
       "4  [1, 917, 918, 919, 41, 16, 920, 921, 427, 110,...   \n",
       "\n",
       "                                             summary  text_length  \\\n",
       "0  [1, 16, 31, 20, 21, 22, 23, 24, 25, 150, 68, 1...          728   \n",
       "1  [1, 164, 338, 339, 340, 354, 355, 262, 16, 52,...          409   \n",
       "2  [1, 528, 630, 8, 407, 7, 59, 482, 483, 484, 48...          404   \n",
       "3  [1, 752, 760, 711, 761, 762, 763, 767, 768, 97...          705   \n",
       "4  [1, 917, 918, 919, 41, 16, 920, 90, 853, 127, ...          708   \n",
       "\n",
       "   summ_length  compression  \n",
       "0           23    31.652174  \n",
       "1           28    14.607143  \n",
       "2           19    21.263158  \n",
       "3           26    27.115385  \n",
       "4           21    33.714286  "
      ]
     },
     "execution_count": 6,
     "metadata": {},
     "output_type": "execute_result"
    }
   ],
   "source": [
    "with open('train_df_new.pkl', 'rb') as f:\n",
    "    train_df_new = pickle.load(f)\n",
    "train_df_new.head()"
   ]
  },
  {
   "cell_type": "code",
   "execution_count": 11,
   "metadata": {
    "ExecuteTime": {
     "end_time": "2019-06-25T20:46:32.686574Z",
     "start_time": "2019-06-25T20:46:32.602345Z"
    }
   },
   "outputs": [
    {
     "data": {
      "text/html": [
       "<div>\n",
       "<style scoped>\n",
       "    .dataframe tbody tr th:only-of-type {\n",
       "        vertical-align: middle;\n",
       "    }\n",
       "\n",
       "    .dataframe tbody tr th {\n",
       "        vertical-align: top;\n",
       "    }\n",
       "\n",
       "    .dataframe thead th {\n",
       "        text-align: right;\n",
       "    }\n",
       "</style>\n",
       "<table border=\"1\" class=\"dataframe\">\n",
       "  <thead>\n",
       "    <tr style=\"text-align: right;\">\n",
       "      <th></th>\n",
       "      <th>text</th>\n",
       "      <th>summary</th>\n",
       "      <th>text_length</th>\n",
       "      <th>summ_length</th>\n",
       "      <th>compression</th>\n",
       "      <th>length2</th>\n",
       "    </tr>\n",
       "  </thead>\n",
       "  <tbody>\n",
       "    <tr>\n",
       "      <th>0</th>\n",
       "      <td>[1, 4, 5, 6, 7, 8, 9, 10, 11, 12, 13, 14, 15, ...</td>\n",
       "      <td>[1, 16, 31, 20, 21, 22, 23, 24, 25, 150, 68, 1...</td>\n",
       "      <td>728</td>\n",
       "      <td>23</td>\n",
       "      <td>31.652174</td>\n",
       "      <td>643</td>\n",
       "    </tr>\n",
       "    <tr>\n",
       "      <th>1</th>\n",
       "      <td>[1, 164, 338, 339, 340, 163, 61, 90, 341, 97, ...</td>\n",
       "      <td>[1, 164, 338, 339, 340, 354, 355, 262, 16, 52,...</td>\n",
       "      <td>409</td>\n",
       "      <td>28</td>\n",
       "      <td>14.607143</td>\n",
       "      <td>367</td>\n",
       "    </tr>\n",
       "    <tr>\n",
       "      <th>2</th>\n",
       "      <td>[1, 8, 407, 7, 59, 482, 483, 484, 485, 132, 48...</td>\n",
       "      <td>[1, 528, 630, 8, 407, 7, 59, 482, 483, 484, 48...</td>\n",
       "      <td>404</td>\n",
       "      <td>19</td>\n",
       "      <td>21.263158</td>\n",
       "      <td>355</td>\n",
       "    </tr>\n",
       "    <tr>\n",
       "      <th>3</th>\n",
       "      <td>[1, 631, 632, 385, 633, 75, 634, 47, 635, 636,...</td>\n",
       "      <td>[1, 752, 760, 711, 761, 762, 763, 767, 768, 97...</td>\n",
       "      <td>705</td>\n",
       "      <td>26</td>\n",
       "      <td>27.115385</td>\n",
       "      <td>617</td>\n",
       "    </tr>\n",
       "    <tr>\n",
       "      <th>4</th>\n",
       "      <td>[1, 917, 918, 919, 41, 16, 920, 921, 427, 110,...</td>\n",
       "      <td>[1, 917, 918, 919, 41, 16, 920, 90, 853, 127, ...</td>\n",
       "      <td>708</td>\n",
       "      <td>21</td>\n",
       "      <td>33.714286</td>\n",
       "      <td>620</td>\n",
       "    </tr>\n",
       "  </tbody>\n",
       "</table>\n",
       "</div>"
      ],
      "text/plain": [
       "                                                text  \\\n",
       "0  [1, 4, 5, 6, 7, 8, 9, 10, 11, 12, 13, 14, 15, ...   \n",
       "1  [1, 164, 338, 339, 340, 163, 61, 90, 341, 97, ...   \n",
       "2  [1, 8, 407, 7, 59, 482, 483, 484, 485, 132, 48...   \n",
       "3  [1, 631, 632, 385, 633, 75, 634, 47, 635, 636,...   \n",
       "4  [1, 917, 918, 919, 41, 16, 920, 921, 427, 110,...   \n",
       "\n",
       "                                             summary  text_length  \\\n",
       "0  [1, 16, 31, 20, 21, 22, 23, 24, 25, 150, 68, 1...          728   \n",
       "1  [1, 164, 338, 339, 340, 354, 355, 262, 16, 52,...          409   \n",
       "2  [1, 528, 630, 8, 407, 7, 59, 482, 483, 484, 48...          404   \n",
       "3  [1, 752, 760, 711, 761, 762, 763, 767, 768, 97...          705   \n",
       "4  [1, 917, 918, 919, 41, 16, 920, 90, 853, 127, ...          708   \n",
       "\n",
       "   summ_length  compression  length2  \n",
       "0           23    31.652174      643  \n",
       "1           28    14.607143      367  \n",
       "2           19    21.263158      355  \n",
       "3           26    27.115385      617  \n",
       "4           21    33.714286      620  "
      ]
     },
     "execution_count": 11,
     "metadata": {},
     "output_type": "execute_result"
    }
   ],
   "source": [
    "train_df_new['length2'] = train_df_new.text.map(lambda x: len(x))\n",
    "train_df_new.head()"
   ]
  },
  {
   "cell_type": "code",
   "execution_count": 15,
   "metadata": {
    "ExecuteTime": {
     "end_time": "2019-06-25T20:48:04.199101Z",
     "start_time": "2019-06-25T20:48:04.154610Z"
    }
   },
   "outputs": [
    {
     "data": {
      "text/html": [
       "<div>\n",
       "<style scoped>\n",
       "    .dataframe tbody tr th:only-of-type {\n",
       "        vertical-align: middle;\n",
       "    }\n",
       "\n",
       "    .dataframe tbody tr th {\n",
       "        vertical-align: top;\n",
       "    }\n",
       "\n",
       "    .dataframe thead th {\n",
       "        text-align: right;\n",
       "    }\n",
       "</style>\n",
       "<table border=\"1\" class=\"dataframe\">\n",
       "  <thead>\n",
       "    <tr style=\"text-align: right;\">\n",
       "      <th></th>\n",
       "      <th>text_length</th>\n",
       "      <th>summ_length</th>\n",
       "      <th>compression</th>\n",
       "      <th>length2</th>\n",
       "    </tr>\n",
       "  </thead>\n",
       "  <tbody>\n",
       "    <tr>\n",
       "      <th>count</th>\n",
       "      <td>190802.000000</td>\n",
       "      <td>190802.000000</td>\n",
       "      <td>190802.000000</td>\n",
       "      <td>190802.000000</td>\n",
       "    </tr>\n",
       "    <tr>\n",
       "      <th>mean</th>\n",
       "      <td>533.587698</td>\n",
       "      <td>25.240385</td>\n",
       "      <td>21.786813</td>\n",
       "      <td>474.481745</td>\n",
       "    </tr>\n",
       "    <tr>\n",
       "      <th>std</th>\n",
       "      <td>135.653450</td>\n",
       "      <td>5.693368</td>\n",
       "      <td>5.996497</td>\n",
       "      <td>122.320603</td>\n",
       "    </tr>\n",
       "    <tr>\n",
       "      <th>min</th>\n",
       "      <td>301.000000</td>\n",
       "      <td>16.000000</td>\n",
       "      <td>12.025641</td>\n",
       "      <td>119.000000</td>\n",
       "    </tr>\n",
       "    <tr>\n",
       "      <th>25%</th>\n",
       "      <td>421.000000</td>\n",
       "      <td>21.000000</td>\n",
       "      <td>16.826087</td>\n",
       "      <td>374.000000</td>\n",
       "    </tr>\n",
       "    <tr>\n",
       "      <th>50%</th>\n",
       "      <td>523.000000</td>\n",
       "      <td>24.000000</td>\n",
       "      <td>21.100000</td>\n",
       "      <td>465.000000</td>\n",
       "    </tr>\n",
       "    <tr>\n",
       "      <th>75%</th>\n",
       "      <td>644.000000</td>\n",
       "      <td>29.000000</td>\n",
       "      <td>26.344828</td>\n",
       "      <td>573.000000</td>\n",
       "    </tr>\n",
       "    <tr>\n",
       "      <th>max</th>\n",
       "      <td>799.000000</td>\n",
       "      <td>39.000000</td>\n",
       "      <td>34.954545</td>\n",
       "      <td>1289.000000</td>\n",
       "    </tr>\n",
       "  </tbody>\n",
       "</table>\n",
       "</div>"
      ],
      "text/plain": [
       "         text_length    summ_length    compression        length2\n",
       "count  190802.000000  190802.000000  190802.000000  190802.000000\n",
       "mean      533.587698      25.240385      21.786813     474.481745\n",
       "std       135.653450       5.693368       5.996497     122.320603\n",
       "min       301.000000      16.000000      12.025641     119.000000\n",
       "25%       421.000000      21.000000      16.826087     374.000000\n",
       "50%       523.000000      24.000000      21.100000     465.000000\n",
       "75%       644.000000      29.000000      26.344828     573.000000\n",
       "max       799.000000      39.000000      34.954545    1289.000000"
      ]
     },
     "execution_count": 15,
     "metadata": {},
     "output_type": "execute_result"
    }
   ],
   "source": [
    "train_df_new.describe()"
   ]
  },
  {
   "cell_type": "code",
   "execution_count": 16,
   "metadata": {
    "ExecuteTime": {
     "end_time": "2019-06-25T20:48:13.424436Z",
     "start_time": "2019-06-25T20:48:13.417556Z"
    }
   },
   "outputs": [
    {
     "data": {
      "text/plain": [
       "753.0"
      ]
     },
     "execution_count": 16,
     "metadata": {},
     "output_type": "execute_result"
    }
   ],
   "source": [
    "train_df_new.length2.quantile(.999)"
   ]
  },
  {
   "cell_type": "code",
   "execution_count": 24,
   "metadata": {
    "ExecuteTime": {
     "end_time": "2019-06-25T20:50:17.862786Z",
     "start_time": "2019-06-25T20:50:17.856141Z"
    }
   },
   "outputs": [
    {
     "data": {
      "text/plain": [
       "165255    [1, 41, 3423, 12798, 1639, 39, 5435, 182, 1802...\n",
       "Name: text, dtype: object"
      ]
     },
     "execution_count": 24,
     "metadata": {},
     "output_type": "execute_result"
    }
   ],
   "source": [
    "train_df_new[train_df_new.length2 == 1289.0].text[-10:]"
   ]
  },
  {
   "cell_type": "markdown",
   "metadata": {},
   "source": [
    "## Appendix"
   ]
  },
  {
   "cell_type": "code",
   "execution_count": null,
   "metadata": {},
   "outputs": [],
   "source": [
    "text_lens = train_df.text.map(lambda x: len(x))\n",
    "summary_lens = train_df.summary.map(lambda x: len(x))"
   ]
  },
  {
   "cell_type": "code",
   "execution_count": null,
   "metadata": {},
   "outputs": [],
   "source": [
    "text_lens.describe(), summary_lens.describe()"
   ]
  },
  {
   "cell_type": "code",
   "execution_count": 55,
   "metadata": {},
   "outputs": [],
   "source": [
    "sub_train_df = train_df[(text_lens < 750) & (summary_lens < 26)]"
   ]
  },
  {
   "cell_type": "code",
   "execution_count": 56,
   "metadata": {},
   "outputs": [],
   "source": [
    "sub_text_lens = sub_train_df.text.map(lambda x: len(x))\n",
    "sub_summary_lens = sub_train_df.summary.map(lambda x: len(x))"
   ]
  },
  {
   "cell_type": "code",
   "execution_count": 62,
   "metadata": {},
   "outputs": [
    {
     "name": "stderr",
     "output_type": "stream",
     "text": [
      "/usr/local/anaconda3/envs/msds/lib/python3.7/site-packages/pandas/core/indexing.py:635: SettingWithCopyWarning: \n",
      "A value is trying to be set on a copy of a slice from a DataFrame.\n",
      "Try using .loc[row_indexer,col_indexer] = value instead\n",
      "\n",
      "See the caveats in the documentation: http://pandas.pydata.org/pandas-docs/stable/indexing.html#indexing-view-versus-copy\n",
      "  self.obj[item_labels[indexer[info_axis]]] = value\n"
     ]
    }
   ],
   "source": [
    "sub_train_df.loc[:, 'text'] = sub_train_df['text'].apply(lambda x: ((sub_text_lens.max() - len(x)) * [0]) + x)\n",
    "sub_train_df.loc[:, 'summary'] = sub_train_df['summary'].apply(lambda x: x + ((sub_summary_lens.max() - len(x)) * [0]))"
   ]
  },
  {
   "cell_type": "code",
   "execution_count": 58,
   "metadata": {},
   "outputs": [],
   "source": [
    "embedding_dim = 300\n",
    "embeddings = 1 * np.random.randn(len(vocabulary) + 1, embedding_dim)  # This will be the embedding matrix\n",
    "embeddings[0] = 0  # So that the padding will be ignored"
   ]
  },
  {
   "cell_type": "code",
   "execution_count": 64,
   "metadata": {},
   "outputs": [
    {
     "data": {
      "text/html": [
       "<div>\n",
       "<style scoped>\n",
       "    .dataframe tbody tr th:only-of-type {\n",
       "        vertical-align: middle;\n",
       "    }\n",
       "\n",
       "    .dataframe tbody tr th {\n",
       "        vertical-align: top;\n",
       "    }\n",
       "\n",
       "    .dataframe thead th {\n",
       "        text-align: right;\n",
       "    }\n",
       "</style>\n",
       "<table border=\"1\" class=\"dataframe\">\n",
       "  <thead>\n",
       "    <tr style=\"text-align: right;\">\n",
       "      <th></th>\n",
       "      <th>text</th>\n",
       "      <th>summary</th>\n",
       "    </tr>\n",
       "  </thead>\n",
       "  <tbody>\n",
       "    <tr>\n",
       "      <th>1</th>\n",
       "      <td>[0, 0, 0, 0, 0, 0, 0, 0, 0, 0, 0, 0, 0, 0, 0, ...</td>\n",
       "      <td>[0, 0, 0, 0, 0, 0, 0, 0, 0, 8, 759, 760, 761, ...</td>\n",
       "    </tr>\n",
       "    <tr>\n",
       "      <th>2</th>\n",
       "      <td>[0, 0, 0, 0, 0, 0, 0, 0, 0, 0, 0, 0, 0, 0, 0, ...</td>\n",
       "      <td>[0, 0, 0, 0, 0, 8, 951, 944, 945, 946, 947, 69...</td>\n",
       "    </tr>\n",
       "    <tr>\n",
       "      <th>12</th>\n",
       "      <td>[0, 0, 0, 0, 0, 0, 0, 0, 0, 0, 0, 0, 0, 0, 0, ...</td>\n",
       "      <td>[0, 0, 0, 0, 0, 0, 0, 0, 0, 0, 0, 0, 0, 0, 0, ...</td>\n",
       "    </tr>\n",
       "    <tr>\n",
       "      <th>14</th>\n",
       "      <td>[0, 0, 0, 0, 0, 0, 0, 0, 0, 0, 0, 0, 0, 0, 0, ...</td>\n",
       "      <td>[0, 0, 0, 0, 0, 0, 0, 0, 0, 0, 0, 0, 0, 0, 0, ...</td>\n",
       "    </tr>\n",
       "    <tr>\n",
       "      <th>20</th>\n",
       "      <td>[0, 0, 0, 0, 0, 0, 0, 0, 0, 0, 0, 0, 0, 0, 0, ...</td>\n",
       "      <td>[0, 0, 0, 1154, 115, 8, 3301, 3302, 3303, 8, 5...</td>\n",
       "    </tr>\n",
       "    <tr>\n",
       "      <th>23</th>\n",
       "      <td>[0, 0, 0, 0, 0, 0, 0, 0, 0, 0, 0, 0, 0, 0, 0, ...</td>\n",
       "      <td>[0, 0, 0, 0, 0, 0, 0, 0, 0, 0, 0, 0, 0, 0, 0, ...</td>\n",
       "    </tr>\n",
       "    <tr>\n",
       "      <th>24</th>\n",
       "      <td>[0, 0, 0, 0, 0, 0, 0, 0, 0, 0, 0, 0, 0, 0, 0, ...</td>\n",
       "      <td>[0, 0, 0, 0, 0, 0, 0, 0, 0, 0, 981, 3674, 870,...</td>\n",
       "    </tr>\n",
       "    <tr>\n",
       "      <th>35</th>\n",
       "      <td>[0, 0, 0, 0, 0, 0, 0, 0, 0, 0, 0, 0, 0, 0, 0, ...</td>\n",
       "      <td>[380, 1589, 3158, 37, 5434, 409, 502, 228, 128...</td>\n",
       "    </tr>\n",
       "    <tr>\n",
       "      <th>40</th>\n",
       "      <td>[0, 0, 0, 0, 0, 0, 0, 0, 0, 0, 0, 0, 0, 0, 0, ...</td>\n",
       "      <td>[0, 0, 0, 0, 0, 0, 0, 0, 0, 0, 0, 0, 0, 0, 0, ...</td>\n",
       "    </tr>\n",
       "    <tr>\n",
       "      <th>41</th>\n",
       "      <td>[0, 0, 0, 0, 0, 0, 0, 0, 0, 0, 0, 0, 0, 0, 0, ...</td>\n",
       "      <td>[0, 0, 0, 0, 0, 0, 0, 0, 0, 0, 0, 0, 0, 0, 0, ...</td>\n",
       "    </tr>\n",
       "    <tr>\n",
       "      <th>43</th>\n",
       "      <td>[0, 0, 0, 0, 0, 0, 0, 0, 0, 0, 0, 0, 0, 0, 0, ...</td>\n",
       "      <td>[0, 0, 0, 0, 0, 0, 0, 0, 0, 0, 6002, 3824, 129...</td>\n",
       "    </tr>\n",
       "    <tr>\n",
       "      <th>44</th>\n",
       "      <td>[0, 0, 0, 0, 0, 0, 0, 0, 0, 0, 0, 0, 0, 0, 0, ...</td>\n",
       "      <td>[0, 0, 0, 0, 0, 0, 0, 0, 0, 0, 0, 0, 0, 0, 494...</td>\n",
       "    </tr>\n",
       "    <tr>\n",
       "      <th>48</th>\n",
       "      <td>[0, 0, 0, 0, 0, 0, 0, 0, 0, 0, 0, 0, 0, 0, 0, ...</td>\n",
       "      <td>[0, 0, 0, 0, 0, 0, 0, 0, 0, 0, 0, 0, 0, 0, 0, ...</td>\n",
       "    </tr>\n",
       "    <tr>\n",
       "      <th>49</th>\n",
       "      <td>[0, 0, 0, 0, 0, 0, 0, 0, 0, 0, 0, 0, 0, 0, 0, ...</td>\n",
       "      <td>[0, 0, 0, 0, 0, 0, 0, 0, 0, 0, 2809, 60, 295, ...</td>\n",
       "    </tr>\n",
       "    <tr>\n",
       "      <th>50</th>\n",
       "      <td>[0, 0, 0, 0, 0, 0, 0, 0, 0, 0, 0, 0, 0, 0, 0, ...</td>\n",
       "      <td>[0, 6553, 6558, 6537, 6559, 6560, 503, 6563, 3...</td>\n",
       "    </tr>\n",
       "    <tr>\n",
       "      <th>54</th>\n",
       "      <td>[0, 0, 0, 0, 0, 0, 0, 0, 0, 0, 0, 0, 0, 0, 0, ...</td>\n",
       "      <td>[0, 0, 0, 0, 0, 0, 3246, 1150, 6790, 19, 8, 46...</td>\n",
       "    </tr>\n",
       "    <tr>\n",
       "      <th>56</th>\n",
       "      <td>[0, 0, 0, 0, 0, 0, 0, 0, 0, 0, 0, 0, 0, 0, 0, ...</td>\n",
       "      <td>[0, 0, 0, 0, 0, 0, 0, 0, 0, 0, 0, 0, 0, 0, 0, ...</td>\n",
       "    </tr>\n",
       "    <tr>\n",
       "      <th>57</th>\n",
       "      <td>[0, 0, 0, 0, 0, 0, 0, 0, 0, 0, 0, 0, 0, 0, 0, ...</td>\n",
       "      <td>[0, 0, 0, 133, 7074, 1229, 3371, 8, 4515, 85, ...</td>\n",
       "    </tr>\n",
       "    <tr>\n",
       "      <th>66</th>\n",
       "      <td>[0, 0, 0, 0, 0, 0, 0, 0, 0, 0, 0, 0, 0, 0, 0, ...</td>\n",
       "      <td>[0, 0, 0, 0, 0, 0, 0, 0, 0, 0, 0, 8, 7937, 187...</td>\n",
       "    </tr>\n",
       "    <tr>\n",
       "      <th>68</th>\n",
       "      <td>[0, 0, 0, 0, 0, 0, 0, 0, 0, 0, 0, 0, 0, 0, 0, ...</td>\n",
       "      <td>[0, 0, 0, 0, 0, 0, 0, 0, 0, 0, 0, 0, 0, 0, 0, ...</td>\n",
       "    </tr>\n",
       "    <tr>\n",
       "      <th>74</th>\n",
       "      <td>[0, 0, 0, 0, 0, 0, 0, 0, 0, 0, 0, 0, 0, 0, 0, ...</td>\n",
       "      <td>[0, 0, 0, 0, 0, 0, 0, 228, 418, 3735, 228, 267...</td>\n",
       "    </tr>\n",
       "    <tr>\n",
       "      <th>76</th>\n",
       "      <td>[0, 0, 0, 0, 0, 0, 0, 0, 0, 0, 0, 0, 0, 0, 0, ...</td>\n",
       "      <td>[0, 0, 0, 0, 0, 0, 0, 8559, 1145, 132, 11, 69,...</td>\n",
       "    </tr>\n",
       "    <tr>\n",
       "      <th>80</th>\n",
       "      <td>[0, 0, 0, 0, 0, 0, 0, 0, 0, 0, 0, 0, 0, 0, 0, ...</td>\n",
       "      <td>[0, 0, 0, 0, 0, 1203, 487, 460, 5522, 4628, 64...</td>\n",
       "    </tr>\n",
       "    <tr>\n",
       "      <th>81</th>\n",
       "      <td>[0, 0, 0, 0, 0, 0, 0, 0, 0, 0, 0, 0, 0, 0, 0, ...</td>\n",
       "      <td>[0, 0, 0, 1322, 999, 8778, 1515, 8, 877, 424, ...</td>\n",
       "    </tr>\n",
       "    <tr>\n",
       "      <th>86</th>\n",
       "      <td>[0, 0, 0, 0, 0, 0, 0, 0, 0, 0, 0, 0, 0, 0, 0, ...</td>\n",
       "      <td>[0, 0, 0, 0, 0, 0, 0, 0, 0, 0, 0, 0, 0, 0, 214...</td>\n",
       "    </tr>\n",
       "    <tr>\n",
       "      <th>87</th>\n",
       "      <td>[0, 0, 0, 0, 0, 0, 0, 0, 0, 0, 0, 0, 0, 0, 0, ...</td>\n",
       "      <td>[0, 0, 0, 0, 0, 0, 0, 0, 0, 0, 9194, 2108, 19,...</td>\n",
       "    </tr>\n",
       "    <tr>\n",
       "      <th>89</th>\n",
       "      <td>[0, 0, 0, 0, 0, 0, 0, 0, 0, 0, 0, 0, 0, 0, 0, ...</td>\n",
       "      <td>[0, 0, 0, 0, 0, 0, 0, 0, 0, 0, 0, 0, 8, 9262, ...</td>\n",
       "    </tr>\n",
       "    <tr>\n",
       "      <th>96</th>\n",
       "      <td>[0, 0, 0, 0, 0, 0, 0, 0, 0, 0, 0, 0, 0, 0, 0, ...</td>\n",
       "      <td>[0, 0, 0, 0, 0, 0, 0, 0, 0, 0, 3596, 9016, 409...</td>\n",
       "    </tr>\n",
       "    <tr>\n",
       "      <th>97</th>\n",
       "      <td>[0, 0, 0, 0, 0, 0, 0, 0, 0, 0, 0, 0, 0, 0, 0, ...</td>\n",
       "      <td>[0, 0, 0, 0, 0, 0, 0, 0, 14, 9990, 1033, 9991,...</td>\n",
       "    </tr>\n",
       "    <tr>\n",
       "      <th>101</th>\n",
       "      <td>[0, 0, 0, 0, 0, 0, 0, 0, 0, 0, 0, 0, 0, 0, 0, ...</td>\n",
       "      <td>[0, 0, 0, 0, 0, 2011, 487, 1753, 4, 970, 352, ...</td>\n",
       "    </tr>\n",
       "    <tr>\n",
       "      <th>...</th>\n",
       "      <td>...</td>\n",
       "      <td>...</td>\n",
       "    </tr>\n",
       "    <tr>\n",
       "      <th>994846</th>\n",
       "      <td>[0, 0, 0, 0, 0, 0, 0, 0, 0, 0, 0, 0, 0, 0, 0, ...</td>\n",
       "      <td>[0, 0, 0, 0, 0, 0, 0, 0, 0, 0, 0, 0, 1512, 551...</td>\n",
       "    </tr>\n",
       "    <tr>\n",
       "      <th>994857</th>\n",
       "      <td>[0, 0, 0, 0, 0, 0, 0, 0, 0, 0, 0, 0, 0, 0, 0, ...</td>\n",
       "      <td>[0, 1288, 8, 1902, 266, 373, 1612, 19, 144, 38...</td>\n",
       "    </tr>\n",
       "    <tr>\n",
       "      <th>994858</th>\n",
       "      <td>[0, 0, 0, 0, 0, 0, 0, 0, 0, 0, 0, 0, 0, 0, 0, ...</td>\n",
       "      <td>[0, 0, 0, 0, 0, 0, 5643, 3979, 5028, 3630, 290...</td>\n",
       "    </tr>\n",
       "    <tr>\n",
       "      <th>994860</th>\n",
       "      <td>[0, 0, 0, 0, 0, 0, 0, 0, 0, 0, 0, 0, 0, 0, 0, ...</td>\n",
       "      <td>[0, 0, 0, 0, 0, 0, 0, 0, 0, 0, 315, 182, 9123,...</td>\n",
       "    </tr>\n",
       "    <tr>\n",
       "      <th>994866</th>\n",
       "      <td>[0, 0, 0, 0, 0, 0, 0, 0, 0, 0, 0, 0, 0, 0, 0, ...</td>\n",
       "      <td>[0, 0, 0, 0, 8, 1429, 1539, 864, 753, 1273, 15...</td>\n",
       "    </tr>\n",
       "    <tr>\n",
       "      <th>994868</th>\n",
       "      <td>[0, 0, 0, 0, 0, 0, 0, 0, 0, 0, 0, 0, 0, 0, 0, ...</td>\n",
       "      <td>[0, 0, 0, 0, 0, 0, 551, 7623, 14, 951, 8, 35, ...</td>\n",
       "    </tr>\n",
       "    <tr>\n",
       "      <th>994871</th>\n",
       "      <td>[0, 0, 0, 0, 0, 0, 0, 0, 0, 0, 0, 0, 0, 0, 0, ...</td>\n",
       "      <td>[0, 0, 0, 0, 0, 0, 0, 0, 0, 0, 0, 0, 1450, 149...</td>\n",
       "    </tr>\n",
       "    <tr>\n",
       "      <th>994876</th>\n",
       "      <td>[0, 0, 0, 0, 0, 0, 0, 0, 0, 0, 0, 0, 0, 0, 0, ...</td>\n",
       "      <td>[0, 0, 0, 0, 6234, 725, 16685, 14, 182, 1099, ...</td>\n",
       "    </tr>\n",
       "    <tr>\n",
       "      <th>994885</th>\n",
       "      <td>[0, 0, 0, 0, 0, 0, 0, 0, 0, 0, 0, 0, 0, 0, 0, ...</td>\n",
       "      <td>[0, 8, 1108, 28181, 1448, 3992, 1076, 250, 115...</td>\n",
       "    </tr>\n",
       "    <tr>\n",
       "      <th>994903</th>\n",
       "      <td>[0, 0, 0, 0, 0, 0, 0, 0, 0, 0, 0, 0, 0, 0, 0, ...</td>\n",
       "      <td>[0, 0, 4356, 2521, 1075, 269, 2911, 38, 1572, ...</td>\n",
       "    </tr>\n",
       "    <tr>\n",
       "      <th>994904</th>\n",
       "      <td>[0, 0, 0, 0, 0, 0, 0, 0, 0, 0, 0, 0, 0, 0, 0, ...</td>\n",
       "      <td>[0, 0, 0, 1399, 2178, 10747, 753, 8482, 1521, ...</td>\n",
       "    </tr>\n",
       "    <tr>\n",
       "      <th>994910</th>\n",
       "      <td>[0, 0, 0, 0, 0, 0, 0, 0, 0, 0, 0, 0, 0, 0, 0, ...</td>\n",
       "      <td>[0, 0, 0, 0, 0, 1722, 411, 151, 211, 6378, 125...</td>\n",
       "    </tr>\n",
       "    <tr>\n",
       "      <th>994917</th>\n",
       "      <td>[0, 0, 0, 0, 0, 0, 0, 0, 0, 0, 0, 0, 0, 0, 0, ...</td>\n",
       "      <td>[0, 0, 0, 0, 17258, 1921, 110, 419, 204, 1047,...</td>\n",
       "    </tr>\n",
       "    <tr>\n",
       "      <th>994918</th>\n",
       "      <td>[0, 0, 0, 0, 0, 0, 0, 0, 0, 0, 0, 0, 0, 0, 0, ...</td>\n",
       "      <td>[0, 0, 0, 0, 0, 0, 129, 69696, 2432, 129, 6969...</td>\n",
       "    </tr>\n",
       "    <tr>\n",
       "      <th>994919</th>\n",
       "      <td>[0, 0, 0, 0, 0, 0, 0, 0, 0, 0, 0, 0, 0, 0, 0, ...</td>\n",
       "      <td>[0, 0, 0, 0, 0, 0, 0, 6261, 2689, 29234, 129, ...</td>\n",
       "    </tr>\n",
       "    <tr>\n",
       "      <th>994926</th>\n",
       "      <td>[0, 0, 0, 0, 0, 0, 0, 0, 0, 0, 0, 0, 0, 0, 0, ...</td>\n",
       "      <td>[4788, 2657, 35, 174, 31535, 10758, 1463, 1459...</td>\n",
       "    </tr>\n",
       "    <tr>\n",
       "      <th>994927</th>\n",
       "      <td>[0, 0, 0, 0, 0, 0, 0, 0, 0, 0, 0, 0, 0, 0, 0, ...</td>\n",
       "      <td>[0, 0, 0, 0, 0, 5, 5282, 12014, 5779, 192, 38,...</td>\n",
       "    </tr>\n",
       "    <tr>\n",
       "      <th>994936</th>\n",
       "      <td>[0, 0, 0, 0, 0, 0, 0, 0, 0, 0, 0, 0, 0, 0, 0, ...</td>\n",
       "      <td>[0, 0, 374, 1652, 826, 2629, 463, 6071, 10947,...</td>\n",
       "    </tr>\n",
       "    <tr>\n",
       "      <th>994959</th>\n",
       "      <td>[0, 0, 0, 0, 0, 0, 0, 0, 0, 0, 0, 0, 0, 0, 0, ...</td>\n",
       "      <td>[0, 8, 2088, 940, 387, 1983, 14009, 23, 12505,...</td>\n",
       "    </tr>\n",
       "    <tr>\n",
       "      <th>994967</th>\n",
       "      <td>[0, 0, 0, 0, 0, 0, 0, 0, 0, 0, 0, 0, 0, 0, 0, ...</td>\n",
       "      <td>[0, 0, 0, 0, 3540, 4543, 9149, 2663, 55, 8848,...</td>\n",
       "    </tr>\n",
       "    <tr>\n",
       "      <th>994971</th>\n",
       "      <td>[0, 0, 0, 0, 0, 0, 0, 0, 0, 0, 0, 0, 0, 0, 0, ...</td>\n",
       "      <td>[0, 67, 151, 315, 182, 400, 2356, 895, 8, 9187...</td>\n",
       "    </tr>\n",
       "    <tr>\n",
       "      <th>994983</th>\n",
       "      <td>[0, 0, 0, 0, 0, 0, 0, 0, 0, 0, 0, 0, 0, 0, 0, ...</td>\n",
       "      <td>[0, 18652, 3031, 23606, 5971, 5230, 121, 1521,...</td>\n",
       "    </tr>\n",
       "    <tr>\n",
       "      <th>994989</th>\n",
       "      <td>[0, 0, 0, 0, 0, 0, 0, 0, 0, 0, 0, 0, 0, 0, 0, ...</td>\n",
       "      <td>[0, 0, 0, 0, 0, 0, 0, 0, 8, 4340, 15040, 14339...</td>\n",
       "    </tr>\n",
       "    <tr>\n",
       "      <th>994996</th>\n",
       "      <td>[0, 0, 0, 0, 0, 0, 0, 0, 0, 0, 0, 0, 0, 0, 0, ...</td>\n",
       "      <td>[0, 0, 0, 0, 0, 5967, 151, 227, 32049, 340, 32...</td>\n",
       "    </tr>\n",
       "    <tr>\n",
       "      <th>995006</th>\n",
       "      <td>[0, 0, 0, 0, 0, 0, 0, 0, 0, 0, 0, 0, 0, 0, 0, ...</td>\n",
       "      <td>[0, 0, 0, 0, 0, 1618, 8557, 115, 1710, 3925, 3...</td>\n",
       "    </tr>\n",
       "    <tr>\n",
       "      <th>995009</th>\n",
       "      <td>[0, 0, 0, 0, 0, 0, 0, 0, 0, 0, 0, 0, 0, 0, 0, ...</td>\n",
       "      <td>[0, 0, 0, 0, 1852, 1098, 16832, 19485, 1539, 2...</td>\n",
       "    </tr>\n",
       "    <tr>\n",
       "      <th>995012</th>\n",
       "      <td>[0, 0, 0, 0, 0, 0, 0, 0, 0, 0, 0, 0, 0, 0, 0, ...</td>\n",
       "      <td>[0, 0, 0, 6653, 42906, 5906, 14911, 3093, 182,...</td>\n",
       "    </tr>\n",
       "    <tr>\n",
       "      <th>995014</th>\n",
       "      <td>[0, 0, 0, 0, 0, 0, 0, 0, 0, 0, 0, 0, 0, 0, 0, ...</td>\n",
       "      <td>[0, 0, 0, 0, 0, 0, 0, 0, 0, 0, 0, 0, 0, 8, 320...</td>\n",
       "    </tr>\n",
       "    <tr>\n",
       "      <th>995020</th>\n",
       "      <td>[0, 0, 0, 0, 0, 0, 0, 0, 0, 0, 0, 0, 0, 0, 0, ...</td>\n",
       "      <td>[0, 1288, 8, 1902, 266, 373, 1612, 19, 144, 38...</td>\n",
       "    </tr>\n",
       "    <tr>\n",
       "      <th>995023</th>\n",
       "      <td>[0, 0, 0, 0, 0, 0, 0, 0, 0, 0, 0, 0, 0, 0, 0, ...</td>\n",
       "      <td>[0, 0, 0, 0, 0, 0, 0, 0, 0, 4496, 780, 105, 38...</td>\n",
       "    </tr>\n",
       "  </tbody>\n",
       "</table>\n",
       "<p>546196 rows × 2 columns</p>\n",
       "</div>"
      ],
      "text/plain": [
       "                                                     text  \\\n",
       "1       [0, 0, 0, 0, 0, 0, 0, 0, 0, 0, 0, 0, 0, 0, 0, ...   \n",
       "2       [0, 0, 0, 0, 0, 0, 0, 0, 0, 0, 0, 0, 0, 0, 0, ...   \n",
       "12      [0, 0, 0, 0, 0, 0, 0, 0, 0, 0, 0, 0, 0, 0, 0, ...   \n",
       "14      [0, 0, 0, 0, 0, 0, 0, 0, 0, 0, 0, 0, 0, 0, 0, ...   \n",
       "20      [0, 0, 0, 0, 0, 0, 0, 0, 0, 0, 0, 0, 0, 0, 0, ...   \n",
       "23      [0, 0, 0, 0, 0, 0, 0, 0, 0, 0, 0, 0, 0, 0, 0, ...   \n",
       "24      [0, 0, 0, 0, 0, 0, 0, 0, 0, 0, 0, 0, 0, 0, 0, ...   \n",
       "35      [0, 0, 0, 0, 0, 0, 0, 0, 0, 0, 0, 0, 0, 0, 0, ...   \n",
       "40      [0, 0, 0, 0, 0, 0, 0, 0, 0, 0, 0, 0, 0, 0, 0, ...   \n",
       "41      [0, 0, 0, 0, 0, 0, 0, 0, 0, 0, 0, 0, 0, 0, 0, ...   \n",
       "43      [0, 0, 0, 0, 0, 0, 0, 0, 0, 0, 0, 0, 0, 0, 0, ...   \n",
       "44      [0, 0, 0, 0, 0, 0, 0, 0, 0, 0, 0, 0, 0, 0, 0, ...   \n",
       "48      [0, 0, 0, 0, 0, 0, 0, 0, 0, 0, 0, 0, 0, 0, 0, ...   \n",
       "49      [0, 0, 0, 0, 0, 0, 0, 0, 0, 0, 0, 0, 0, 0, 0, ...   \n",
       "50      [0, 0, 0, 0, 0, 0, 0, 0, 0, 0, 0, 0, 0, 0, 0, ...   \n",
       "54      [0, 0, 0, 0, 0, 0, 0, 0, 0, 0, 0, 0, 0, 0, 0, ...   \n",
       "56      [0, 0, 0, 0, 0, 0, 0, 0, 0, 0, 0, 0, 0, 0, 0, ...   \n",
       "57      [0, 0, 0, 0, 0, 0, 0, 0, 0, 0, 0, 0, 0, 0, 0, ...   \n",
       "66      [0, 0, 0, 0, 0, 0, 0, 0, 0, 0, 0, 0, 0, 0, 0, ...   \n",
       "68      [0, 0, 0, 0, 0, 0, 0, 0, 0, 0, 0, 0, 0, 0, 0, ...   \n",
       "74      [0, 0, 0, 0, 0, 0, 0, 0, 0, 0, 0, 0, 0, 0, 0, ...   \n",
       "76      [0, 0, 0, 0, 0, 0, 0, 0, 0, 0, 0, 0, 0, 0, 0, ...   \n",
       "80      [0, 0, 0, 0, 0, 0, 0, 0, 0, 0, 0, 0, 0, 0, 0, ...   \n",
       "81      [0, 0, 0, 0, 0, 0, 0, 0, 0, 0, 0, 0, 0, 0, 0, ...   \n",
       "86      [0, 0, 0, 0, 0, 0, 0, 0, 0, 0, 0, 0, 0, 0, 0, ...   \n",
       "87      [0, 0, 0, 0, 0, 0, 0, 0, 0, 0, 0, 0, 0, 0, 0, ...   \n",
       "89      [0, 0, 0, 0, 0, 0, 0, 0, 0, 0, 0, 0, 0, 0, 0, ...   \n",
       "96      [0, 0, 0, 0, 0, 0, 0, 0, 0, 0, 0, 0, 0, 0, 0, ...   \n",
       "97      [0, 0, 0, 0, 0, 0, 0, 0, 0, 0, 0, 0, 0, 0, 0, ...   \n",
       "101     [0, 0, 0, 0, 0, 0, 0, 0, 0, 0, 0, 0, 0, 0, 0, ...   \n",
       "...                                                   ...   \n",
       "994846  [0, 0, 0, 0, 0, 0, 0, 0, 0, 0, 0, 0, 0, 0, 0, ...   \n",
       "994857  [0, 0, 0, 0, 0, 0, 0, 0, 0, 0, 0, 0, 0, 0, 0, ...   \n",
       "994858  [0, 0, 0, 0, 0, 0, 0, 0, 0, 0, 0, 0, 0, 0, 0, ...   \n",
       "994860  [0, 0, 0, 0, 0, 0, 0, 0, 0, 0, 0, 0, 0, 0, 0, ...   \n",
       "994866  [0, 0, 0, 0, 0, 0, 0, 0, 0, 0, 0, 0, 0, 0, 0, ...   \n",
       "994868  [0, 0, 0, 0, 0, 0, 0, 0, 0, 0, 0, 0, 0, 0, 0, ...   \n",
       "994871  [0, 0, 0, 0, 0, 0, 0, 0, 0, 0, 0, 0, 0, 0, 0, ...   \n",
       "994876  [0, 0, 0, 0, 0, 0, 0, 0, 0, 0, 0, 0, 0, 0, 0, ...   \n",
       "994885  [0, 0, 0, 0, 0, 0, 0, 0, 0, 0, 0, 0, 0, 0, 0, ...   \n",
       "994903  [0, 0, 0, 0, 0, 0, 0, 0, 0, 0, 0, 0, 0, 0, 0, ...   \n",
       "994904  [0, 0, 0, 0, 0, 0, 0, 0, 0, 0, 0, 0, 0, 0, 0, ...   \n",
       "994910  [0, 0, 0, 0, 0, 0, 0, 0, 0, 0, 0, 0, 0, 0, 0, ...   \n",
       "994917  [0, 0, 0, 0, 0, 0, 0, 0, 0, 0, 0, 0, 0, 0, 0, ...   \n",
       "994918  [0, 0, 0, 0, 0, 0, 0, 0, 0, 0, 0, 0, 0, 0, 0, ...   \n",
       "994919  [0, 0, 0, 0, 0, 0, 0, 0, 0, 0, 0, 0, 0, 0, 0, ...   \n",
       "994926  [0, 0, 0, 0, 0, 0, 0, 0, 0, 0, 0, 0, 0, 0, 0, ...   \n",
       "994927  [0, 0, 0, 0, 0, 0, 0, 0, 0, 0, 0, 0, 0, 0, 0, ...   \n",
       "994936  [0, 0, 0, 0, 0, 0, 0, 0, 0, 0, 0, 0, 0, 0, 0, ...   \n",
       "994959  [0, 0, 0, 0, 0, 0, 0, 0, 0, 0, 0, 0, 0, 0, 0, ...   \n",
       "994967  [0, 0, 0, 0, 0, 0, 0, 0, 0, 0, 0, 0, 0, 0, 0, ...   \n",
       "994971  [0, 0, 0, 0, 0, 0, 0, 0, 0, 0, 0, 0, 0, 0, 0, ...   \n",
       "994983  [0, 0, 0, 0, 0, 0, 0, 0, 0, 0, 0, 0, 0, 0, 0, ...   \n",
       "994989  [0, 0, 0, 0, 0, 0, 0, 0, 0, 0, 0, 0, 0, 0, 0, ...   \n",
       "994996  [0, 0, 0, 0, 0, 0, 0, 0, 0, 0, 0, 0, 0, 0, 0, ...   \n",
       "995006  [0, 0, 0, 0, 0, 0, 0, 0, 0, 0, 0, 0, 0, 0, 0, ...   \n",
       "995009  [0, 0, 0, 0, 0, 0, 0, 0, 0, 0, 0, 0, 0, 0, 0, ...   \n",
       "995012  [0, 0, 0, 0, 0, 0, 0, 0, 0, 0, 0, 0, 0, 0, 0, ...   \n",
       "995014  [0, 0, 0, 0, 0, 0, 0, 0, 0, 0, 0, 0, 0, 0, 0, ...   \n",
       "995020  [0, 0, 0, 0, 0, 0, 0, 0, 0, 0, 0, 0, 0, 0, 0, ...   \n",
       "995023  [0, 0, 0, 0, 0, 0, 0, 0, 0, 0, 0, 0, 0, 0, 0, ...   \n",
       "\n",
       "                                                  summary  \n",
       "1       [0, 0, 0, 0, 0, 0, 0, 0, 0, 8, 759, 760, 761, ...  \n",
       "2       [0, 0, 0, 0, 0, 8, 951, 944, 945, 946, 947, 69...  \n",
       "12      [0, 0, 0, 0, 0, 0, 0, 0, 0, 0, 0, 0, 0, 0, 0, ...  \n",
       "14      [0, 0, 0, 0, 0, 0, 0, 0, 0, 0, 0, 0, 0, 0, 0, ...  \n",
       "20      [0, 0, 0, 1154, 115, 8, 3301, 3302, 3303, 8, 5...  \n",
       "23      [0, 0, 0, 0, 0, 0, 0, 0, 0, 0, 0, 0, 0, 0, 0, ...  \n",
       "24      [0, 0, 0, 0, 0, 0, 0, 0, 0, 0, 981, 3674, 870,...  \n",
       "35      [380, 1589, 3158, 37, 5434, 409, 502, 228, 128...  \n",
       "40      [0, 0, 0, 0, 0, 0, 0, 0, 0, 0, 0, 0, 0, 0, 0, ...  \n",
       "41      [0, 0, 0, 0, 0, 0, 0, 0, 0, 0, 0, 0, 0, 0, 0, ...  \n",
       "43      [0, 0, 0, 0, 0, 0, 0, 0, 0, 0, 6002, 3824, 129...  \n",
       "44      [0, 0, 0, 0, 0, 0, 0, 0, 0, 0, 0, 0, 0, 0, 494...  \n",
       "48      [0, 0, 0, 0, 0, 0, 0, 0, 0, 0, 0, 0, 0, 0, 0, ...  \n",
       "49      [0, 0, 0, 0, 0, 0, 0, 0, 0, 0, 2809, 60, 295, ...  \n",
       "50      [0, 6553, 6558, 6537, 6559, 6560, 503, 6563, 3...  \n",
       "54      [0, 0, 0, 0, 0, 0, 3246, 1150, 6790, 19, 8, 46...  \n",
       "56      [0, 0, 0, 0, 0, 0, 0, 0, 0, 0, 0, 0, 0, 0, 0, ...  \n",
       "57      [0, 0, 0, 133, 7074, 1229, 3371, 8, 4515, 85, ...  \n",
       "66      [0, 0, 0, 0, 0, 0, 0, 0, 0, 0, 0, 8, 7937, 187...  \n",
       "68      [0, 0, 0, 0, 0, 0, 0, 0, 0, 0, 0, 0, 0, 0, 0, ...  \n",
       "74      [0, 0, 0, 0, 0, 0, 0, 228, 418, 3735, 228, 267...  \n",
       "76      [0, 0, 0, 0, 0, 0, 0, 8559, 1145, 132, 11, 69,...  \n",
       "80      [0, 0, 0, 0, 0, 1203, 487, 460, 5522, 4628, 64...  \n",
       "81      [0, 0, 0, 1322, 999, 8778, 1515, 8, 877, 424, ...  \n",
       "86      [0, 0, 0, 0, 0, 0, 0, 0, 0, 0, 0, 0, 0, 0, 214...  \n",
       "87      [0, 0, 0, 0, 0, 0, 0, 0, 0, 0, 9194, 2108, 19,...  \n",
       "89      [0, 0, 0, 0, 0, 0, 0, 0, 0, 0, 0, 0, 8, 9262, ...  \n",
       "96      [0, 0, 0, 0, 0, 0, 0, 0, 0, 0, 3596, 9016, 409...  \n",
       "97      [0, 0, 0, 0, 0, 0, 0, 0, 14, 9990, 1033, 9991,...  \n",
       "101     [0, 0, 0, 0, 0, 2011, 487, 1753, 4, 970, 352, ...  \n",
       "...                                                   ...  \n",
       "994846  [0, 0, 0, 0, 0, 0, 0, 0, 0, 0, 0, 0, 1512, 551...  \n",
       "994857  [0, 1288, 8, 1902, 266, 373, 1612, 19, 144, 38...  \n",
       "994858  [0, 0, 0, 0, 0, 0, 5643, 3979, 5028, 3630, 290...  \n",
       "994860  [0, 0, 0, 0, 0, 0, 0, 0, 0, 0, 315, 182, 9123,...  \n",
       "994866  [0, 0, 0, 0, 8, 1429, 1539, 864, 753, 1273, 15...  \n",
       "994868  [0, 0, 0, 0, 0, 0, 551, 7623, 14, 951, 8, 35, ...  \n",
       "994871  [0, 0, 0, 0, 0, 0, 0, 0, 0, 0, 0, 0, 1450, 149...  \n",
       "994876  [0, 0, 0, 0, 6234, 725, 16685, 14, 182, 1099, ...  \n",
       "994885  [0, 8, 1108, 28181, 1448, 3992, 1076, 250, 115...  \n",
       "994903  [0, 0, 4356, 2521, 1075, 269, 2911, 38, 1572, ...  \n",
       "994904  [0, 0, 0, 1399, 2178, 10747, 753, 8482, 1521, ...  \n",
       "994910  [0, 0, 0, 0, 0, 1722, 411, 151, 211, 6378, 125...  \n",
       "994917  [0, 0, 0, 0, 17258, 1921, 110, 419, 204, 1047,...  \n",
       "994918  [0, 0, 0, 0, 0, 0, 129, 69696, 2432, 129, 6969...  \n",
       "994919  [0, 0, 0, 0, 0, 0, 0, 6261, 2689, 29234, 129, ...  \n",
       "994926  [4788, 2657, 35, 174, 31535, 10758, 1463, 1459...  \n",
       "994927  [0, 0, 0, 0, 0, 5, 5282, 12014, 5779, 192, 38,...  \n",
       "994936  [0, 0, 374, 1652, 826, 2629, 463, 6071, 10947,...  \n",
       "994959  [0, 8, 2088, 940, 387, 1983, 14009, 23, 12505,...  \n",
       "994967  [0, 0, 0, 0, 3540, 4543, 9149, 2663, 55, 8848,...  \n",
       "994971  [0, 67, 151, 315, 182, 400, 2356, 895, 8, 9187...  \n",
       "994983  [0, 18652, 3031, 23606, 5971, 5230, 121, 1521,...  \n",
       "994989  [0, 0, 0, 0, 0, 0, 0, 0, 8, 4340, 15040, 14339...  \n",
       "994996  [0, 0, 0, 0, 0, 5967, 151, 227, 32049, 340, 32...  \n",
       "995006  [0, 0, 0, 0, 0, 1618, 8557, 115, 1710, 3925, 3...  \n",
       "995009  [0, 0, 0, 0, 1852, 1098, 16832, 19485, 1539, 2...  \n",
       "995012  [0, 0, 0, 6653, 42906, 5906, 14911, 3093, 182,...  \n",
       "995014  [0, 0, 0, 0, 0, 0, 0, 0, 0, 0, 0, 0, 0, 8, 320...  \n",
       "995020  [0, 1288, 8, 1902, 266, 373, 1612, 19, 144, 38...  \n",
       "995023  [0, 0, 0, 0, 0, 0, 0, 0, 0, 4496, 780, 105, 38...  \n",
       "\n",
       "[546196 rows x 2 columns]"
      ]
     },
     "execution_count": 64,
     "metadata": {},
     "output_type": "execute_result"
    }
   ],
   "source": [
    "sub_train_df"
   ]
  },
  {
   "cell_type": "code",
   "execution_count": 65,
   "metadata": {},
   "outputs": [],
   "source": [
    "sub_train_df.to_csv('sub_train_df.csv', index=False)"
   ]
  }
 ],
 "metadata": {
  "kernelspec": {
   "display_name": "Python 3",
   "language": "python",
   "name": "python3"
  },
  "language_info": {
   "codemirror_mode": {
    "name": "ipython",
    "version": 3
   },
   "file_extension": ".py",
   "mimetype": "text/x-python",
   "name": "python",
   "nbconvert_exporter": "python",
   "pygments_lexer": "ipython3",
   "version": "3.6.8"
  }
 },
 "nbformat": 4,
 "nbformat_minor": 2
}
